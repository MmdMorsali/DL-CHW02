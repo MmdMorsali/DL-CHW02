{
 "cells": [
  {
   "cell_type": "markdown",
   "metadata": {},
   "source": [
    "# **Deep Learning Course**\n",
    "\n",
    "## **Loss Functions and Multilayer Perceptrons (MLP)**\n",
    "\n",
    "---\n",
    "\n",
    "### **Student Information:**\n",
    "\n",
    "- **Name:** *Mohammad Morsali*\n",
    "- **Student Number:** *400101956*\n",
    "\n",
    "---\n",
    "\n",
    "### **Assignment Overview**\n",
    "\n",
    "In this notebook, we will explore various loss functions used in neural networks, with a specific focus on their role in training **Multilayer Perceptrons (MLPs)**. By the end of this notebook, you will have a deeper understanding of:\n",
    "- Types of loss functions\n",
    "- How loss functions affect the training process\n",
    "- The relationship between loss functions and model optimization in MLPs\n",
    "\n",
    "---\n",
    "\n",
    "### **Table of Contents**\n",
    "\n",
    "1. Introduction to Loss Functions\n",
    "2. Types of Loss Functions\n",
    "3. Multilayer Perceptrons (MLP)\n",
    "4. Implementing Loss Functions in MLP\n",
    "5. Conclusion\n",
    "\n",
    "---\n",
    "\n"
   ]
  },
  {
   "cell_type": "markdown",
   "metadata": {},
   "source": [
    "# 1.Introduction to Loss Functions \n",
    "\n",
    "In deep learning, **loss functions** play a crucial role in training models by quantifying the difference between the predicted outputs and the actual targets. Selecting the appropriate loss function is essential for the success of your model. In this assay, we will explore various loss functions available in PyTorch, understand their theoretical backgrounds, and provide you with a scaffolded class to experiment with these loss functions.\n",
    "\n",
    "Before begining, let's train a simle MLP model using the **L1Loss** function. We'll return to this model later to experiment with different loss functions. We'll start by importing the necessary libraries and defining the model architecture.\n",
    "\n",
    "First things first, let's talk about **L1Loss**.\n",
    "\n",
    "### 1. L1Loss (`torch.nn.L1Loss`)\n",
    "- **Description:** Also known as Mean Absolute Error (MAE), L1Loss computes the average absolute difference between the predicted values and the target values.\n",
    "- **Use Case:** Suitable for regression tasks where robustness to outliers is desired.\n",
    "\n",
    "Here is the mathematical formulation of L1Loss:\n",
    "\\begin{equation}\n",
    "\\text{L1Loss} = \\frac{1}{n} \\sum_{i=1}^{n} |y_{\\text{pred}_i} - y_{\\text{true}_i}|\n",
    "\\end{equation}\n",
    "\n",
    "Let's implement a simple MLP model using the L1Loss function."
   ]
  },
  {
   "cell_type": "code",
   "execution_count": null,
   "metadata": {},
   "outputs": [],
   "source": [
    "import torch\n",
    "import torch.nn as nn\n",
    "import torch.optim as optim\n",
    "import pandas as pd\n",
    "from torch.utils.data import TensorDataset, DataLoader,random_split\n",
    "from sklearn.model_selection import train_test_split\n",
    "from torch.optim import Adam\n",
    "import tqdm\n",
    "from sklearn.preprocessing import StandardScaler, LabelEncoder\n",
    "from sklearn.impute import SimpleImputer\n",
    "from torch.optim.lr_scheduler import StepLR\n",
    "import requests\n",
    "from io import StringIO\n",
    "from sklearn.metrics import precision_score, recall_score, f1_score\n",
    "from tqdm import tqdm\n",
    "import numpy as np\n",
    "# Don't be courious about Adam, it's just a fancy name for a fancy optimization algorithm"
   ]
  },
  {
   "cell_type": "markdown",
   "metadata": {},
   "source": [
    "Here, we'll define a class called `SimpleMLP` that inherits from `nn.Module`. This class can have multiple layers, and we'll use the `nn.Sequential` module to define the layers of the model. The model will have the following architecture:"
   ]
  },
  {
   "cell_type": "code",
   "execution_count": 19,
   "metadata": {},
   "outputs": [],
   "source": [
    "class SimpleMLP(nn.Module):\n",
    "    def __init__(\n",
    "        self, \n",
    "        input_dim, \n",
    "        hidden_dim, \n",
    "        output_dim, \n",
    "        num_hidden_layers=1, \n",
    "        last_layer_activation_fn=nn.ReLU\n",
    "    ):\n",
    "        super(SimpleMLP, self).__init__()\n",
    "\n",
    "        # Initialize a list to store layers\n",
    "        net_layers = []\n",
    "\n",
    "        # Add the input layer with activation\n",
    "        net_layers.append(nn.Linear(input_dim, hidden_dim))\n",
    "        net_layers.append(nn.ReLU())\n",
    "\n",
    "        # Add specified number of hidden layers with activation\n",
    "        for layer_num in range(1, num_hidden_layers):\n",
    "            net_layers.append(nn.Linear(hidden_dim, hidden_dim))\n",
    "            net_layers.append(nn.ReLU())\n",
    "\n",
    "        # Add the output layer\n",
    "        net_layers.append(nn.Linear(hidden_dim, output_dim))\n",
    "\n",
    "        # Optionally add activation function to the output layer\n",
    "        if last_layer_activation_fn is not None:\n",
    "            net_layers.append(last_layer_activation_fn())\n",
    "\n",
    "        # Create the model using nn.Sequential\n",
    "        self.model = nn.Sequential(*net_layers)\n",
    "\n",
    "        # Initialize weights\n",
    "        self.initialize_weights()\n",
    "\n",
    "    def initialize_weights(self):\n",
    "        # Initialize weights for linear layers using Kaiming uniform initialization\n",
    "        for module in self.modules():\n",
    "            if isinstance(module, nn.Linear):\n",
    "                nn.init.kaiming_uniform_(module.weight, nonlinearity='relu')\n",
    "                if module.bias is not None:\n",
    "                    nn.init.zeros_(module.bias)\n",
    "\n",
    "    def forward(self, x):\n",
    "        # Forward pass through the model\n",
    "        return self.model(x)\n"
   ]
  },
  {
   "cell_type": "markdown",
   "metadata": {},
   "source": [
    "Now, let's define a class called `SimpleMLP_Loss` that has the following architecture:"
   ]
  },
  {
   "cell_type": "code",
   "execution_count": 20,
   "metadata": {},
   "outputs": [],
   "source": [
    "class SimpleMLPTrainer:\n",
    "    def __init__(\n",
    "        self, \n",
    "        model, \n",
    "        criterion, \n",
    "        optimizer, \n",
    "        scheduler=None, \n",
    "        save_model=False, \n",
    "        checkpoint_path='model_checkpoint.pth', \n",
    "        writer=None\n",
    "    ):\n",
    "        \"\"\"\n",
    "        Initialize the trainer with model, criterion, optimizer, and optional scheduler and writer.\n",
    "\n",
    "        Args:\n",
    "            model: The neural network model to train.\n",
    "            criterion: Loss function.\n",
    "            optimizer: Optimization algorithm.\n",
    "            scheduler: Learning rate scheduler (optional).\n",
    "            save_model: Whether to save the model when validation loss improves.\n",
    "            checkpoint_path: Path to save the model checkpoint.\n",
    "            writer: TensorBoard SummaryWriter for logging (optional).\n",
    "        \"\"\"\n",
    "        self.model = model\n",
    "        self.criterion = criterion\n",
    "        self.optimizer = optimizer\n",
    "        self.scheduler = scheduler\n",
    "        self.save_model = save_model\n",
    "        self.checkpoint_path = checkpoint_path\n",
    "        self.best_loss = float('inf')\n",
    "        self.writer = writer\n",
    "\n",
    "    def train(self, train_loader, num_epochs, val_loader=None):\n",
    "        \"\"\"\n",
    "        Train the model using the provided data loader.\n",
    "\n",
    "        Args:\n",
    "            train_loader: DataLoader for training data.\n",
    "            num_epochs: Number of epochs to train.\n",
    "            val_loader: DataLoader for validation data (optional).\n",
    "\n",
    "        Returns:\n",
    "            Tuple of lists containing training losses, validation losses, and validation accuracies.\n",
    "        \"\"\"\n",
    "        self.model.train()\n",
    "        epoch_losses = []\n",
    "        validation_losses = []\n",
    "        validation_accuracies = []\n",
    "\n",
    "        for epoch_idx in range(num_epochs):\n",
    "            running_loss = 0.0\n",
    "            for batch_inputs, batch_targets in tqdm(\n",
    "                train_loader, desc=f\"Epoch {epoch_idx+1}/{num_epochs}\"\n",
    "            ):\n",
    "                self.optimizer.zero_grad()\n",
    "                \n",
    "                # Forward pass\n",
    "                predictions = self.model(batch_inputs)\n",
    "                loss = self.criterion(predictions, batch_targets)\n",
    "                \n",
    "                # Backward pass and optimization\n",
    "                loss.backward()\n",
    "                self.optimizer.step()\n",
    "                \n",
    "                running_loss += loss.item()\n",
    "\n",
    "            # Calculate average loss for the epoch\n",
    "            avg_loss = running_loss / len(train_loader)\n",
    "            epoch_losses.append(avg_loss)\n",
    "            \n",
    "            print(f\"Epoch [{epoch_idx+1}/{num_epochs}], Loss: {avg_loss:.4f}\")\n",
    "\n",
    "            # Step the scheduler if it's provided\n",
    "            if self.scheduler:\n",
    "                self.scheduler.step()\n",
    "\n",
    "            # Evaluate on validation set if provided\n",
    "            if val_loader is not None:\n",
    "                val_loss, val_accuracy = self.evaluate(val_loader, current_epoch=epoch_idx)\n",
    "                validation_losses.append(val_loss)\n",
    "                validation_accuracies.append(val_accuracy)\n",
    "\n",
    "                # Log validation metrics\n",
    "                if self.writer:\n",
    "                    self.writer.add_scalar('Loss/validation', val_loss, epoch_idx)\n",
    "                    self.writer.add_scalar('Accuracy/validation', val_accuracy, epoch_idx)\n",
    "\n",
    "            # Log training loss\n",
    "            if self.writer:\n",
    "                self.writer.add_scalar('Loss/train', avg_loss, epoch_idx)\n",
    "\n",
    "            # Save model checkpoint if loss improves\n",
    "            if avg_loss < self.best_loss and self.save_model:\n",
    "                self.best_loss = avg_loss\n",
    "                torch.save(self.model.state_dict(), self.checkpoint_path)\n",
    "                print(f\"Model saved with loss {avg_loss:.4f}\")\n",
    "\n",
    "        return epoch_losses, validation_losses, validation_accuracies\n",
    "\n",
    "    def evaluate(self, val_loader, current_epoch=0):\n",
    "        \"\"\"\n",
    "        Evaluate the model on the validation set.\n",
    "\n",
    "        Args:\n",
    "            val_loader: DataLoader for validation data.\n",
    "            current_epoch: The current epoch number (used for logging).\n",
    "\n",
    "        Returns:\n",
    "            Tuple containing average validation loss and accuracy.\n",
    "        \"\"\"\n",
    "        self.model.eval()\n",
    "        total_val_loss = 0.0\n",
    "        total_correct = 0\n",
    "        total_samples = 0\n",
    "\n",
    "        with torch.no_grad():\n",
    "            for batch_inputs, batch_targets in val_loader:\n",
    "                predictions = self.model(batch_inputs)\n",
    "                loss = self.criterion(predictions, batch_targets)\n",
    "                total_val_loss += loss.item()\n",
    "\n",
    "                # Determine if it's binary or multi-class classification\n",
    "                if predictions.dim() == 1 or predictions.shape[1] == 1:\n",
    "                    # Binary classification\n",
    "                    predicted_labels = (predictions >= 0.5).float().squeeze()\n",
    "                    batch_targets = batch_targets.squeeze()\n",
    "                else:\n",
    "                    # Multi-class classification\n",
    "                    predicted_labels = torch.argmax(predictions, dim=1)\n",
    "                    batch_targets = batch_targets.squeeze()\n",
    "                    if batch_targets.dim() > 1:\n",
    "                        batch_targets = torch.argmax(batch_targets, dim=1)\n",
    "\n",
    "                total_correct += (predicted_labels == batch_targets).sum().item()\n",
    "                total_samples += batch_targets.size(0)\n",
    "\n",
    "        avg_val_loss = total_val_loss / len(val_loader)\n",
    "        accuracy = 100 * total_correct / total_samples if total_samples > 0 else 0\n",
    "\n",
    "        print(f\"Validation Loss: {avg_val_loss:.4f}, Accuracy: {accuracy:.2f}%\")\n",
    "\n",
    "        # Log validation metrics\n",
    "        if self.writer:\n",
    "            self.writer.add_scalar('Loss/validation', avg_val_loss, current_epoch)\n",
    "            self.writer.add_scalar('Accuracy/validation', accuracy, current_epoch)\n",
    "\n",
    "        return avg_val_loss, accuracy\n"
   ]
  },
  {
   "cell_type": "markdown",
   "metadata": {},
   "source": [
    "Next, lets test our model using the L1Loss function. You'll use <span style=\"color:red\">*Titanic Dataset*</span> to train the model.\n"
   ]
  },
  {
   "cell_type": "code",
   "execution_count": null,
   "metadata": {},
   "outputs": [
    {
     "name": "stderr",
     "output_type": "stream",
     "text": [
      "c:\\Users\\user\\AppData\\Local\\Programs\\Python\\Python312\\Lib\\site-packages\\urllib3\\connectionpool.py:1095: InsecureRequestWarning: Unverified HTTPS request is being made to host 'raw.githubusercontent.com'. Adding certificate verification is strongly advised. See: https://urllib3.readthedocs.io/en/latest/advanced-usage.html#tls-warnings\n",
      "  warnings.warn(\n"
     ]
    }
   ],
   "source": [
    "\n",
    "\n",
    "train_url = \"https://raw.githubusercontent.com/datasciencedojo/datasets/master/titanic.csv\"\n",
    "response = requests.get(train_url, verify=False)\n",
    "data = pd.read_csv(StringIO(response.text))\n",
    "data = data[['Pclass', 'Sex', 'Age', 'Fare', 'Survived']].dropna()\n",
    "data['Sex'] = data['Sex'].map({'male': 0, 'female': 1})\n",
    "\n",
    "# Extract input features and target labels\n",
    "feature_values = data[['Pclass', 'Sex', 'Age', 'Fare']].values\n",
    "label_values = data['Survived'].values\n",
    "\n",
    "# Scale features using StandardScaler\n",
    "scaler = StandardScaler()\n",
    "scaled_features = scaler.fit_transform(feature_values)\n",
    "\n",
    "# Convert numpy arrays to PyTorch tensors\n",
    "X_tensor = torch.tensor(scaled_features, dtype=torch.float32)\n",
    "y_tensor = torch.tensor(label_values, dtype=torch.float32).view(-1, 1)\n",
    "\n",
    "# Create a TensorDataset from tensors\n",
    "dataset = TensorDataset(X_tensor, y_tensor)\n",
    "\n",
    "# Calculate sizes for training and validation datasets\n",
    "train_dataset_size = int(0.8 * len(dataset))\n",
    "val_dataset_size = len(dataset) - train_dataset_size\n",
    "\n",
    "# Split the dataset into training and validation sets\n",
    "train_dataset, val_dataset = random_split(\n",
    "    dataset, [train_dataset_size, val_dataset_size]\n",
    ")\n",
    "\n",
    "# Handle class imbalance using WeightedRandomSampler\n",
    "from torch.utils.data import WeightedRandomSampler\n",
    "\n",
    "# Calculate class counts and weights\n",
    "class_counts = np.bincount(label_values.astype(int))\n",
    "class_weights = 1. / class_counts\n",
    "sample_weights = class_weights[label_values.astype(int)]\n",
    "\n",
    "# Create a WeightedRandomSampler\n",
    "weighted_sampler = WeightedRandomSampler(\n",
    "    weights=sample_weights, num_samples=len(sample_weights), replacement=True\n",
    ")\n",
    "\n",
    "# Create DataLoaders for training and validation\n",
    "train_loader = DataLoader(\n",
    "    train_dataset, batch_size=32, sampler=weighted_sampler\n",
    ")\n",
    "val_loader = DataLoader(\n",
    "    val_dataset, batch_size=32, shuffle=False\n",
    ")\n"
   ]
  },
  {
   "cell_type": "markdown",
   "metadata": {},
   "source": [
    "<div style=\"text-align: center;\"> <span style=\"color:red; font-size: 26px; font-weight: bold;\">Let's train!</span> </div>"
   ]
  },
  {
   "cell_type": "code",
   "execution_count": null,
   "metadata": {},
   "outputs": [
    {
     "name": "stderr",
     "output_type": "stream",
     "text": [
      "c:\\Users\\user\\AppData\\Local\\Programs\\Python\\Python312\\Lib\\site-packages\\urllib3\\connectionpool.py:1095: InsecureRequestWarning: Unverified HTTPS request is being made to host 'raw.githubusercontent.com'. Adding certificate verification is strongly advised. See: https://urllib3.readthedocs.io/en/latest/advanced-usage.html#tls-warnings\n",
      "  warnings.warn(\n"
     ]
    },
    {
     "name": "stdout",
     "output_type": "stream",
     "text": [
      "Epoch [1/50]\n",
      "Training Loss: 0.4504\n",
      "Validation Loss: 0.4337\n",
      "Validation Accuracy: 59.18%\n",
      "Precision: 0.5000\n",
      "Recall: 0.0172\n",
      "F1 Score: 0.0333\n",
      "Validation loss improved, model saved.\n",
      "Epoch [2/50]\n",
      "Training Loss: 0.4184\n",
      "Validation Loss: 0.4101\n",
      "Validation Accuracy: 59.31%\n",
      "Precision: 1.0000\n",
      "Recall: 0.0172\n",
      "F1 Score: 0.0339\n",
      "Validation loss improved, model saved.\n",
      "Epoch [3/50]\n",
      "Training Loss: 0.3924\n",
      "Validation Loss: 0.3885\n",
      "Validation Accuracy: 58.78%\n",
      "Precision: 1.0000\n",
      "Recall: 0.0862\n",
      "F1 Score: 0.1587\n",
      "Validation loss improved, model saved.\n",
      "Epoch [4/50]\n",
      "Training Loss: 0.3689\n",
      "Validation Loss: 0.3665\n",
      "Validation Accuracy: 57.59%\n",
      "Precision: 1.0000\n",
      "Recall: 0.2414\n",
      "F1 Score: 0.3889\n",
      "Validation loss improved, model saved.\n",
      "Epoch [5/50]\n",
      "Training Loss: 0.3407\n",
      "Validation Loss: 0.3437\n",
      "Validation Accuracy: 56.40%\n",
      "Precision: 0.9565\n",
      "Recall: 0.3793\n",
      "F1 Score: 0.5432\n",
      "Validation loss improved, model saved.\n",
      "Epoch [6/50]\n",
      "Training Loss: 0.3124\n",
      "Validation Loss: 0.3196\n",
      "Validation Accuracy: 55.61%\n",
      "Precision: 0.9310\n",
      "Recall: 0.4655\n",
      "F1 Score: 0.6207\n",
      "Validation loss improved, model saved.\n",
      "Epoch [7/50]\n",
      "Training Loss: 0.2823\n",
      "Validation Loss: 0.3008\n",
      "Validation Accuracy: 54.56%\n",
      "Precision: 0.8378\n",
      "Recall: 0.5345\n",
      "F1 Score: 0.6526\n",
      "Validation loss improved, model saved.\n",
      "Epoch [8/50]\n",
      "Training Loss: 0.2598\n",
      "Validation Loss: 0.2862\n",
      "Validation Accuracy: 53.76%\n",
      "Precision: 0.7674\n",
      "Recall: 0.5690\n",
      "F1 Score: 0.6535\n",
      "Validation loss improved, model saved.\n",
      "Epoch [9/50]\n",
      "Training Loss: 0.2438\n",
      "Validation Loss: 0.2769\n",
      "Validation Accuracy: 53.37%\n",
      "Precision: 0.7391\n",
      "Recall: 0.5862\n",
      "F1 Score: 0.6538\n",
      "Validation loss improved, model saved.\n",
      "Epoch [10/50]\n",
      "Training Loss: 0.2350\n",
      "Validation Loss: 0.2710\n",
      "Validation Accuracy: 53.23%\n",
      "Precision: 0.7447\n",
      "Recall: 0.6034\n",
      "F1 Score: 0.6667\n",
      "Validation loss improved, model saved.\n",
      "Epoch [11/50]\n",
      "Training Loss: 0.2317\n",
      "Validation Loss: 0.2705\n",
      "Validation Accuracy: 53.23%\n",
      "Precision: 0.7447\n",
      "Recall: 0.6034\n",
      "F1 Score: 0.6667\n",
      "Validation loss improved, model saved.\n",
      "Epoch [12/50]\n",
      "Training Loss: 0.2310\n",
      "Validation Loss: 0.2701\n",
      "Validation Accuracy: 53.23%\n",
      "Precision: 0.7447\n",
      "Recall: 0.6034\n",
      "F1 Score: 0.6667\n",
      "Validation loss improved, model saved.\n",
      "Epoch [13/50]\n",
      "Training Loss: 0.2303\n",
      "Validation Loss: 0.2696\n",
      "Validation Accuracy: 53.23%\n",
      "Precision: 0.7447\n",
      "Recall: 0.6034\n",
      "F1 Score: 0.6667\n",
      "Validation loss improved, model saved.\n",
      "Epoch [14/50]\n",
      "Training Loss: 0.2308\n",
      "Validation Loss: 0.2692\n",
      "Validation Accuracy: 53.23%\n",
      "Precision: 0.7447\n",
      "Recall: 0.6034\n",
      "F1 Score: 0.6667\n",
      "Validation loss improved, model saved.\n",
      "Epoch [15/50]\n",
      "Training Loss: 0.2301\n",
      "Validation Loss: 0.2687\n",
      "Validation Accuracy: 53.23%\n",
      "Precision: 0.7447\n",
      "Recall: 0.6034\n",
      "F1 Score: 0.6667\n",
      "Validation loss improved, model saved.\n",
      "Epoch [16/50]\n",
      "Training Loss: 0.2296\n",
      "Validation Loss: 0.2683\n",
      "Validation Accuracy: 53.23%\n",
      "Precision: 0.7447\n",
      "Recall: 0.6034\n",
      "F1 Score: 0.6667\n",
      "Validation loss improved, model saved.\n",
      "Epoch [17/50]\n",
      "Training Loss: 0.2287\n",
      "Validation Loss: 0.2680\n",
      "Validation Accuracy: 53.23%\n",
      "Precision: 0.7447\n",
      "Recall: 0.6034\n",
      "F1 Score: 0.6667\n",
      "Validation loss improved, model saved.\n",
      "Epoch [18/50]\n",
      "Training Loss: 0.2284\n",
      "Validation Loss: 0.2675\n",
      "Validation Accuracy: 53.23%\n",
      "Precision: 0.7447\n",
      "Recall: 0.6034\n",
      "F1 Score: 0.6667\n",
      "Validation loss improved, model saved.\n",
      "Epoch [19/50]\n",
      "Training Loss: 0.2294\n",
      "Validation Loss: 0.2671\n",
      "Validation Accuracy: 53.10%\n",
      "Precision: 0.7292\n",
      "Recall: 0.6034\n",
      "F1 Score: 0.6604\n",
      "Validation loss improved, model saved.\n",
      "Epoch [20/50]\n",
      "Training Loss: 0.2280\n",
      "Validation Loss: 0.2668\n",
      "Validation Accuracy: 53.10%\n",
      "Precision: 0.7292\n",
      "Recall: 0.6034\n",
      "F1 Score: 0.6604\n",
      "Validation loss improved, model saved.\n",
      "Epoch [21/50]\n",
      "Training Loss: 0.2286\n",
      "Validation Loss: 0.2667\n",
      "Validation Accuracy: 53.10%\n",
      "Precision: 0.7292\n",
      "Recall: 0.6034\n",
      "F1 Score: 0.6604\n",
      "Validation loss improved, model saved.\n",
      "Epoch [22/50]\n",
      "Training Loss: 0.2274\n",
      "Validation Loss: 0.2667\n",
      "Validation Accuracy: 53.10%\n",
      "Precision: 0.7292\n",
      "Recall: 0.6034\n",
      "F1 Score: 0.6604\n",
      "Validation loss improved, model saved.\n",
      "Epoch [23/50]\n",
      "Training Loss: 0.2266\n",
      "Validation Loss: 0.2667\n",
      "Validation Accuracy: 53.10%\n",
      "Precision: 0.7292\n",
      "Recall: 0.6034\n",
      "F1 Score: 0.6604\n",
      "Validation loss improved, model saved.\n",
      "Epoch [24/50]\n",
      "Training Loss: 0.2267\n",
      "Validation Loss: 0.2666\n",
      "Validation Accuracy: 53.10%\n",
      "Precision: 0.7292\n",
      "Recall: 0.6034\n",
      "F1 Score: 0.6604\n",
      "Validation loss improved, model saved.\n",
      "Epoch [25/50]\n",
      "Training Loss: 0.2278\n",
      "Validation Loss: 0.2666\n",
      "Validation Accuracy: 53.10%\n",
      "Precision: 0.7292\n",
      "Recall: 0.6034\n",
      "F1 Score: 0.6604\n",
      "Validation loss improved, model saved.\n",
      "Epoch [26/50]\n",
      "Training Loss: 0.2282\n",
      "Validation Loss: 0.2666\n",
      "Validation Accuracy: 53.10%\n",
      "Precision: 0.7292\n",
      "Recall: 0.6034\n",
      "F1 Score: 0.6604\n",
      "Validation loss improved, model saved.\n",
      "Epoch [27/50]\n",
      "Training Loss: 0.2282\n",
      "Validation Loss: 0.2665\n",
      "Validation Accuracy: 53.10%\n",
      "Precision: 0.7292\n",
      "Recall: 0.6034\n",
      "F1 Score: 0.6604\n",
      "Validation loss improved, model saved.\n",
      "Epoch [28/50]\n",
      "Training Loss: 0.2276\n",
      "Validation Loss: 0.2665\n",
      "Validation Accuracy: 53.10%\n",
      "Precision: 0.7292\n",
      "Recall: 0.6034\n",
      "F1 Score: 0.6604\n",
      "Validation loss improved, model saved.\n",
      "Epoch [29/50]\n",
      "Training Loss: 0.2280\n",
      "Validation Loss: 0.2664\n",
      "Validation Accuracy: 53.10%\n",
      "Precision: 0.7292\n",
      "Recall: 0.6034\n",
      "F1 Score: 0.6604\n",
      "Validation loss improved, model saved.\n",
      "Epoch [30/50]\n",
      "Training Loss: 0.2273\n",
      "Validation Loss: 0.2664\n",
      "Validation Accuracy: 53.10%\n",
      "Precision: 0.7292\n",
      "Recall: 0.6034\n",
      "F1 Score: 0.6604\n",
      "Validation loss improved, model saved.\n",
      "Epoch [31/50]\n",
      "Training Loss: 0.2274\n",
      "Validation Loss: 0.2664\n",
      "Validation Accuracy: 53.10%\n",
      "Precision: 0.7292\n",
      "Recall: 0.6034\n",
      "F1 Score: 0.6604\n",
      "Validation loss improved, model saved.\n",
      "Epoch [32/50]\n",
      "Training Loss: 0.2273\n",
      "Validation Loss: 0.2664\n",
      "Validation Accuracy: 53.10%\n",
      "Precision: 0.7292\n",
      "Recall: 0.6034\n",
      "F1 Score: 0.6604\n",
      "Validation loss improved, model saved.\n",
      "Epoch [33/50]\n",
      "Training Loss: 0.2278\n",
      "Validation Loss: 0.2664\n",
      "Validation Accuracy: 53.10%\n",
      "Precision: 0.7292\n",
      "Recall: 0.6034\n",
      "F1 Score: 0.6604\n",
      "Validation loss improved, model saved.\n",
      "Epoch [34/50]\n",
      "Training Loss: 0.2271\n",
      "Validation Loss: 0.2664\n",
      "Validation Accuracy: 53.10%\n",
      "Precision: 0.7292\n",
      "Recall: 0.6034\n",
      "F1 Score: 0.6604\n",
      "Validation loss improved, model saved.\n",
      "Epoch [35/50]\n",
      "Training Loss: 0.2264\n",
      "Validation Loss: 0.2664\n",
      "Validation Accuracy: 53.10%\n",
      "Precision: 0.7292\n",
      "Recall: 0.6034\n",
      "F1 Score: 0.6604\n",
      "Validation loss improved, model saved.\n",
      "Epoch [36/50]\n",
      "Training Loss: 0.2273\n",
      "Validation Loss: 0.2664\n",
      "Validation Accuracy: 53.10%\n",
      "Precision: 0.7292\n",
      "Recall: 0.6034\n",
      "F1 Score: 0.6604\n",
      "Validation loss improved, model saved.\n",
      "Epoch [37/50]\n",
      "Training Loss: 0.2273\n",
      "Validation Loss: 0.2664\n",
      "Validation Accuracy: 53.10%\n",
      "Precision: 0.7292\n",
      "Recall: 0.6034\n",
      "F1 Score: 0.6604\n",
      "Validation loss improved, model saved.\n",
      "Epoch [38/50]\n",
      "Training Loss: 0.2270\n",
      "Validation Loss: 0.2664\n",
      "Validation Accuracy: 53.10%\n",
      "Precision: 0.7292\n",
      "Recall: 0.6034\n",
      "F1 Score: 0.6604\n",
      "Validation loss improved, model saved.\n",
      "Epoch [39/50]\n",
      "Training Loss: 0.2268\n",
      "Validation Loss: 0.2664\n",
      "Validation Accuracy: 53.10%\n",
      "Precision: 0.7292\n",
      "Recall: 0.6034\n",
      "F1 Score: 0.6604\n",
      "Validation loss improved, model saved.\n",
      "Epoch [40/50]\n",
      "Training Loss: 0.2265\n",
      "Validation Loss: 0.2664\n",
      "Validation Accuracy: 53.10%\n",
      "Precision: 0.7292\n",
      "Recall: 0.6034\n",
      "F1 Score: 0.6604\n",
      "Validation loss improved, model saved.\n",
      "Epoch [41/50]\n",
      "Training Loss: 0.2272\n",
      "Validation Loss: 0.2664\n",
      "Validation Accuracy: 53.10%\n",
      "Precision: 0.7292\n",
      "Recall: 0.6034\n",
      "F1 Score: 0.6604\n",
      "Validation loss improved, model saved.\n",
      "Epoch [42/50]\n",
      "Training Loss: 0.2260\n",
      "Validation Loss: 0.2664\n",
      "Validation Accuracy: 53.10%\n",
      "Precision: 0.7292\n",
      "Recall: 0.6034\n",
      "F1 Score: 0.6604\n",
      "Validation loss improved, model saved.\n",
      "Epoch [43/50]\n",
      "Training Loss: 0.2267\n",
      "Validation Loss: 0.2664\n",
      "Validation Accuracy: 53.10%\n",
      "Precision: 0.7292\n",
      "Recall: 0.6034\n",
      "F1 Score: 0.6604\n",
      "Validation loss improved, model saved.\n",
      "Epoch [44/50]\n",
      "Training Loss: 0.2271\n",
      "Validation Loss: 0.2664\n",
      "Validation Accuracy: 53.10%\n",
      "Precision: 0.7292\n",
      "Recall: 0.6034\n",
      "F1 Score: 0.6604\n",
      "Validation loss improved, model saved.\n",
      "Epoch [45/50]\n",
      "Training Loss: 0.2265\n",
      "Validation Loss: 0.2664\n",
      "Validation Accuracy: 53.10%\n",
      "Precision: 0.7292\n",
      "Recall: 0.6034\n",
      "F1 Score: 0.6604\n",
      "Validation loss improved, model saved.\n",
      "Epoch [46/50]\n",
      "Training Loss: 0.2281\n",
      "Validation Loss: 0.2664\n",
      "Validation Accuracy: 53.10%\n",
      "Precision: 0.7292\n",
      "Recall: 0.6034\n",
      "F1 Score: 0.6604\n",
      "Validation loss improved, model saved.\n",
      "Epoch [47/50]\n",
      "Training Loss: 0.2272\n",
      "Validation Loss: 0.2664\n",
      "Validation Accuracy: 53.10%\n",
      "Precision: 0.7292\n",
      "Recall: 0.6034\n",
      "F1 Score: 0.6604\n",
      "Validation loss improved, model saved.\n",
      "Epoch [48/50]\n",
      "Training Loss: 0.2269\n",
      "Validation Loss: 0.2664\n",
      "Validation Accuracy: 53.10%\n",
      "Precision: 0.7292\n",
      "Recall: 0.6034\n",
      "F1 Score: 0.6604\n",
      "Validation loss improved, model saved.\n",
      "Epoch [49/50]\n",
      "Training Loss: 0.2270\n",
      "Validation Loss: 0.2664\n",
      "Validation Accuracy: 53.10%\n",
      "Precision: 0.7292\n",
      "Recall: 0.6034\n",
      "F1 Score: 0.6604\n",
      "Validation loss improved, model saved.\n",
      "Epoch [50/50]\n",
      "Training Loss: 0.2269\n",
      "Validation Loss: 0.2664\n",
      "Validation Accuracy: 53.10%\n",
      "Precision: 0.7292\n",
      "Recall: 0.6034\n",
      "F1 Score: 0.6604\n",
      "Validation loss improved, model saved.\n",
      "Validation Loss: 0.2664, Accuracy: 74.83%\n"
     ]
    }
   ],
   "source": [
    "# Using L1 Loss for training the model on the Titanic dataset with improvements\n",
    "\n",
    "\n",
    "# Define model parameters\n",
    "input_dim = feature_values.shape[1]  # Number of input features from the dataset\n",
    "hidden_dim = 16                      # Number of neurons in each hidden layer\n",
    "output_dim = 1                       # Output dimension for binary classification (Survived or not)\n",
    "num_hidden_layers = 2                # Total number of hidden layers in the model\n",
    "\n",
    "# Instantiate the SimpleMLP model\n",
    "model = SimpleMLP(\n",
    "    input_dim=input_dim,\n",
    "    hidden_dim=hidden_dim,\n",
    "    output_dim=output_dim,\n",
    "    num_hidden_layers=num_hidden_layers,\n",
    "    last_layer_activation_fn=nn.Sigmoid  # Use Sigmoid activation for binary classification\n",
    ")\n",
    "\n",
    "# Define the loss function using Mean Absolute Error (L1 Loss)\n",
    "criterion = nn.L1Loss()\n",
    "\n",
    "# Define the optimizer (Adam optimizer with a learning rate of 0.001)\n",
    "optimizer = torch.optim.Adam(model.parameters(), lr=0.001)\n",
    "\n",
    "# Define a learning rate scheduler to adjust the learning rate during training\n",
    "scheduler = StepLR(optimizer, step_size=10, gamma=0.1)\n",
    "\n",
    "# Instantiate the SimpleMLPTrainer with the model, loss function, optimizer, and scheduler\n",
    "trainer = SimpleMLPTrainer(\n",
    "    model=model,\n",
    "    criterion=criterion,\n",
    "    optimizer=optimizer,\n",
    "    scheduler=scheduler,\n",
    "    save_model=True,                   # Save the model when validation loss improves\n",
    "    checkpoint_path='best_model.pth'   # Path to save the best model\n",
    ")\n",
    "\n",
    "# Set the number of epochs for training\n",
    "num_epochs = 50\n",
    "\n",
    "# Implement early stopping parameters\n",
    "early_stopping_patience = 5  # Stop training if validation loss doesn't improve for 5 consecutive epochs\n",
    "best_val_loss = float('inf')\n",
    "epochs_without_improvement = 0\n",
    "\n",
    "# Lists to store training and validation metrics\n",
    "training_losses = []\n",
    "validation_losses = []\n",
    "validation_accuracies = []\n",
    "validation_precisions = []\n",
    "validation_recalls = []\n",
    "validation_f1s = []\n",
    "\n",
    "# Training loop with early stopping and metric tracking\n",
    "for epoch in range(num_epochs):\n",
    "    # Training phase\n",
    "    model.train()\n",
    "    running_loss = 0.0\n",
    "    for inputs, targets in train_loader:\n",
    "        optimizer.zero_grad()\n",
    "        outputs = model(inputs)\n",
    "        loss = criterion(outputs, targets)\n",
    "        loss.backward()\n",
    "        optimizer.step()\n",
    "        running_loss += loss.item()\n",
    "    avg_training_loss = running_loss / len(train_loader)\n",
    "    training_losses.append(avg_training_loss)\n",
    "\n",
    "    # Validation phase\n",
    "    model.eval()\n",
    "    val_loss = 0.0\n",
    "    all_targets = []\n",
    "    all_predictions = []\n",
    "    with torch.no_grad():\n",
    "        for inputs, targets in val_loader:\n",
    "            outputs = model(inputs)\n",
    "            loss = criterion(outputs, targets)\n",
    "            val_loss += loss.item()\n",
    "\n",
    "            # Collect targets and predictions for metrics\n",
    "            predicted = (outputs >= 0.5).float().squeeze()\n",
    "            all_predictions.extend(predicted.cpu().numpy())\n",
    "            all_targets.extend(targets.cpu().numpy())\n",
    "\n",
    "    avg_val_loss = val_loss / len(val_loader)\n",
    "    validation_losses.append(avg_val_loss)\n",
    "\n",
    "    # Calculate additional metrics\n",
    "    accuracy = (np.array(all_predictions) == np.array(all_targets)).mean() * 100\n",
    "    precision = precision_score(all_targets, all_predictions)\n",
    "    recall = recall_score(all_targets, all_predictions)\n",
    "    f1 = f1_score(all_targets, all_predictions)\n",
    "    validation_accuracies.append(accuracy)\n",
    "    validation_precisions.append(precision)\n",
    "    validation_recalls.append(recall)\n",
    "    validation_f1s.append(f1)\n",
    "\n",
    "    # Print metrics\n",
    "    print(f\"Epoch [{epoch+1}/{num_epochs}]\")\n",
    "    print(f\"Training Loss: {avg_training_loss:.4f}\")\n",
    "    print(f\"Validation Loss: {avg_val_loss:.4f}\")\n",
    "    print(f\"Validation Accuracy: {accuracy:.2f}%\")\n",
    "    print(f\"Precision: {precision:.4f}\")\n",
    "    print(f\"Recall: {recall:.4f}\")\n",
    "    print(f\"F1 Score: {f1:.4f}\")\n",
    "\n",
    "    # Check for improvement\n",
    "    if avg_val_loss < best_val_loss:\n",
    "        best_val_loss = avg_val_loss\n",
    "        epochs_without_improvement = 0\n",
    "        # Save the best model\n",
    "        torch.save(model.state_dict(), 'best_model.pth')\n",
    "        print(\"Validation loss improved, model saved.\")\n",
    "    else:\n",
    "        epochs_without_improvement += 1\n",
    "        print(f\"No improvement in validation loss for {epochs_without_improvement} epochs.\")\n",
    "\n",
    "    # # Early stopping\n",
    "    # if epochs_without_improvement >= early_stopping_patience:\n",
    "    #     print(\"Early stopping triggered.\")\n",
    "    #     break\n",
    "\n",
    "    # Step the scheduler\n",
    "    scheduler.step()\n",
    "\n",
    "# Load the best model before evaluation\n",
    "model.load_state_dict(torch.load('best_model.pth'))\n",
    "\n",
    "# Evaluate the model on the validation set\n",
    "final_val_loss, final_val_accuracy = trainer.evaluate(val_loader)\n",
    "\n",
    "# # Plot training and validation losses\n",
    "# plt.figure(figsize=(10, 5))\n",
    "# plt.plot(range(1, len(training_losses)+1), training_losses, label='Training Loss')\n",
    "# plt.plot(range(1, len(validation_losses)+1), validation_losses, label='Validation Loss')\n",
    "# plt.xlabel('Epoch')\n",
    "# plt.ylabel('Loss')\n",
    "# plt.title('Training and Validation Loss over Epochs')\n",
    "# plt.legend()\n",
    "# plt.show()\n",
    "\n",
    "# # Plot validation accuracy, precision, recall, and F1 score\n",
    "# plt.figure(figsize=(10, 5))\n",
    "# plt.plot(range(1, len(validation_accuracies)+1), validation_accuracies, label='Accuracy')\n",
    "# plt.plot(range(1, len(validation_precisions)+1), validation_precisions, label='Precision')\n",
    "# plt.plot(range(1, len(validation_recalls)+1), validation_recalls, label='Recall')\n",
    "# plt.plot(range(1, len(validation_f1s)+1), validation_f1s, label='F1 Score')\n",
    "# plt.xlabel('Epoch')\n",
    "# plt.ylabel('Metric')\n",
    "# plt.title('Validation Metrics over Epochs')\n",
    "# plt.legend()\n",
    "# plt.show()\n"
   ]
  },
  {
   "cell_type": "markdown",
   "metadata": {},
   "source": [
    "---\n",
    "# 2. Types of Loss Functions\n",
    "\n",
    "PyTorch offers a variety of built-in loss functions tailored for different types of problems, such as regression, classification, and more. Below, we discuss several commonly used loss functions, their theoretical foundations, and typical use cases.\n",
    "\n",
    "### 2. MSELoss (`torch.nn.MSELoss`)\n",
    "- **Description:** Mean Squared Error (MSE) calculates the average of the squares of the differences between predicted and target values.\n",
    "- **Use Case:** Commonly used in regression problems where larger errors are significantly penalized.\n",
    "\n",
    "Here is boring math stuff for MSE:\n",
    "\\begin{equation}\n",
    "\\text{MSE} = \\frac{1}{n} \\sum_{i=1}^{n} (y_{i} - \\hat{y}_{i})^{2}\n",
    "\\end{equation}\n",
    "\n",
    "<span style=\"color:red; font-size: 18px; font-weight: bold;\">Warning:</span> Don't forget to reinitialize the model before experimenting with different loss functions."
   ]
  },
  {
   "cell_type": "code",
   "execution_count": null,
   "metadata": {},
   "outputs": [
    {
     "name": "stdout",
     "output_type": "stream",
     "text": [
      "Epoch [1/50]\n",
      "Training Loss: 0.2335\n",
      "Validation Loss: 0.2109\n",
      "Validation Accuracy: 65.03%\n",
      "Precision: 0.5556\n",
      "Recall: 0.6897\n",
      "F1 Score: 0.6154\n",
      "Validation loss improved, model saved.\n",
      "Epoch [2/50]\n",
      "Training Loss: 0.1874\n",
      "Validation Loss: 0.1838\n",
      "Validation Accuracy: 73.43%\n",
      "Precision: 0.6667\n",
      "Recall: 0.6897\n",
      "F1 Score: 0.6780\n",
      "Validation loss improved, model saved.\n",
      "Epoch [3/50]\n",
      "Training Loss: 0.1649\n",
      "Validation Loss: 0.1699\n",
      "Validation Accuracy: 77.62%\n",
      "Precision: 0.7407\n",
      "Recall: 0.6897\n",
      "F1 Score: 0.7143\n",
      "Validation loss improved, model saved.\n",
      "Epoch [4/50]\n",
      "Training Loss: 0.1526\n",
      "Validation Loss: 0.1635\n",
      "Validation Accuracy: 79.72%\n",
      "Precision: 0.7959\n",
      "Recall: 0.6724\n",
      "F1 Score: 0.7290\n",
      "Validation loss improved, model saved.\n",
      "Epoch [5/50]\n",
      "Training Loss: 0.1463\n",
      "Validation Loss: 0.1593\n",
      "Validation Accuracy: 80.42%\n",
      "Precision: 0.8125\n",
      "Recall: 0.6724\n",
      "F1 Score: 0.7358\n",
      "Validation loss improved, model saved.\n",
      "Epoch [6/50]\n",
      "Training Loss: 0.1411\n",
      "Validation Loss: 0.1571\n",
      "Validation Accuracy: 81.12%\n",
      "Precision: 0.8163\n",
      "Recall: 0.6897\n",
      "F1 Score: 0.7477\n",
      "Validation loss improved, model saved.\n",
      "Epoch [7/50]\n",
      "Training Loss: 0.1384\n",
      "Validation Loss: 0.1554\n",
      "Validation Accuracy: 80.42%\n",
      "Precision: 0.8125\n",
      "Recall: 0.6724\n",
      "F1 Score: 0.7358\n",
      "Validation loss improved, model saved.\n",
      "Epoch [8/50]\n",
      "Training Loss: 0.1359\n",
      "Validation Loss: 0.1542\n",
      "Validation Accuracy: 80.42%\n",
      "Precision: 0.8125\n",
      "Recall: 0.6724\n",
      "F1 Score: 0.7358\n",
      "Validation loss improved, model saved.\n",
      "Epoch [9/50]\n",
      "Training Loss: 0.1344\n",
      "Validation Loss: 0.1532\n",
      "Validation Accuracy: 80.42%\n",
      "Precision: 0.8261\n",
      "Recall: 0.6552\n",
      "F1 Score: 0.7308\n",
      "Validation loss improved, model saved.\n",
      "Epoch [10/50]\n",
      "Training Loss: 0.1332\n",
      "Validation Loss: 0.1527\n",
      "Validation Accuracy: 80.42%\n",
      "Precision: 0.8261\n",
      "Recall: 0.6552\n",
      "F1 Score: 0.7308\n",
      "Validation loss improved, model saved.\n",
      "Epoch [11/50]\n",
      "Training Loss: 0.1324\n",
      "Validation Loss: 0.1526\n",
      "Validation Accuracy: 80.42%\n",
      "Precision: 0.8261\n",
      "Recall: 0.6552\n",
      "F1 Score: 0.7308\n",
      "Validation loss improved, model saved.\n",
      "Epoch [12/50]\n",
      "Training Loss: 0.1316\n",
      "Validation Loss: 0.1525\n",
      "Validation Accuracy: 79.72%\n",
      "Precision: 0.8085\n",
      "Recall: 0.6552\n",
      "F1 Score: 0.7238\n",
      "Validation loss improved, model saved.\n",
      "Epoch [13/50]\n",
      "Training Loss: 0.1320\n",
      "Validation Loss: 0.1525\n",
      "Validation Accuracy: 80.42%\n",
      "Precision: 0.8261\n",
      "Recall: 0.6552\n",
      "F1 Score: 0.7308\n",
      "Validation loss improved, model saved.\n",
      "Epoch [14/50]\n",
      "Training Loss: 0.1318\n",
      "Validation Loss: 0.1524\n",
      "Validation Accuracy: 80.42%\n",
      "Precision: 0.8261\n",
      "Recall: 0.6552\n",
      "F1 Score: 0.7308\n",
      "Validation loss improved, model saved.\n",
      "Epoch [15/50]\n",
      "Training Loss: 0.1319\n",
      "Validation Loss: 0.1523\n",
      "Validation Accuracy: 80.42%\n",
      "Precision: 0.8261\n",
      "Recall: 0.6552\n",
      "F1 Score: 0.7308\n",
      "Validation loss improved, model saved.\n",
      "Epoch [16/50]\n",
      "Training Loss: 0.1313\n",
      "Validation Loss: 0.1523\n",
      "Validation Accuracy: 80.42%\n",
      "Precision: 0.8261\n",
      "Recall: 0.6552\n",
      "F1 Score: 0.7308\n",
      "Validation loss improved, model saved.\n",
      "Epoch [17/50]\n",
      "Training Loss: 0.1316\n",
      "Validation Loss: 0.1522\n",
      "Validation Accuracy: 80.42%\n",
      "Precision: 0.8261\n",
      "Recall: 0.6552\n",
      "F1 Score: 0.7308\n",
      "Validation loss improved, model saved.\n",
      "Epoch [18/50]\n",
      "Training Loss: 0.1312\n",
      "Validation Loss: 0.1521\n",
      "Validation Accuracy: 80.42%\n",
      "Precision: 0.8261\n",
      "Recall: 0.6552\n",
      "F1 Score: 0.7308\n",
      "Validation loss improved, model saved.\n",
      "Epoch [19/50]\n",
      "Training Loss: 0.1315\n",
      "Validation Loss: 0.1520\n",
      "Validation Accuracy: 80.42%\n",
      "Precision: 0.8261\n",
      "Recall: 0.6552\n",
      "F1 Score: 0.7308\n",
      "Validation loss improved, model saved.\n",
      "Epoch [20/50]\n",
      "Training Loss: 0.1312\n",
      "Validation Loss: 0.1520\n",
      "Validation Accuracy: 81.12%\n",
      "Precision: 0.8444\n",
      "Recall: 0.6552\n",
      "F1 Score: 0.7379\n",
      "Validation loss improved, model saved.\n",
      "Epoch [21/50]\n",
      "Training Loss: 0.1313\n",
      "Validation Loss: 0.1520\n",
      "Validation Accuracy: 81.12%\n",
      "Precision: 0.8444\n",
      "Recall: 0.6552\n",
      "F1 Score: 0.7379\n",
      "Validation loss improved, model saved.\n",
      "Epoch [22/50]\n",
      "Training Loss: 0.1315\n",
      "Validation Loss: 0.1520\n",
      "Validation Accuracy: 81.12%\n",
      "Precision: 0.8444\n",
      "Recall: 0.6552\n",
      "F1 Score: 0.7379\n",
      "Validation loss improved, model saved.\n",
      "Epoch [23/50]\n",
      "Training Loss: 0.1311\n",
      "Validation Loss: 0.1520\n",
      "Validation Accuracy: 81.12%\n",
      "Precision: 0.8444\n",
      "Recall: 0.6552\n",
      "F1 Score: 0.7379\n",
      "Validation loss improved, model saved.\n",
      "Epoch [24/50]\n",
      "Training Loss: 0.1310\n",
      "Validation Loss: 0.1520\n",
      "Validation Accuracy: 81.12%\n",
      "Precision: 0.8444\n",
      "Recall: 0.6552\n",
      "F1 Score: 0.7379\n",
      "Validation loss improved, model saved.\n",
      "Epoch [25/50]\n",
      "Training Loss: 0.1309\n",
      "Validation Loss: 0.1520\n",
      "Validation Accuracy: 81.12%\n",
      "Precision: 0.8444\n",
      "Recall: 0.6552\n",
      "F1 Score: 0.7379\n",
      "Validation loss improved, model saved.\n",
      "Epoch [26/50]\n",
      "Training Loss: 0.1307\n",
      "Validation Loss: 0.1520\n",
      "Validation Accuracy: 81.12%\n",
      "Precision: 0.8444\n",
      "Recall: 0.6552\n",
      "F1 Score: 0.7379\n",
      "Validation loss improved, model saved.\n",
      "Epoch [27/50]\n",
      "Training Loss: 0.1308\n",
      "Validation Loss: 0.1520\n",
      "Validation Accuracy: 81.12%\n",
      "Precision: 0.8444\n",
      "Recall: 0.6552\n",
      "F1 Score: 0.7379\n",
      "Validation loss improved, model saved.\n",
      "Epoch [28/50]\n",
      "Training Loss: 0.1317\n",
      "Validation Loss: 0.1519\n",
      "Validation Accuracy: 81.12%\n",
      "Precision: 0.8444\n",
      "Recall: 0.6552\n",
      "F1 Score: 0.7379\n",
      "Validation loss improved, model saved.\n",
      "Epoch [29/50]\n",
      "Training Loss: 0.1317\n",
      "Validation Loss: 0.1519\n",
      "Validation Accuracy: 81.12%\n",
      "Precision: 0.8444\n",
      "Recall: 0.6552\n",
      "F1 Score: 0.7379\n",
      "Validation loss improved, model saved.\n",
      "Epoch [30/50]\n",
      "Training Loss: 0.1310\n",
      "Validation Loss: 0.1519\n",
      "Validation Accuracy: 81.12%\n",
      "Precision: 0.8444\n",
      "Recall: 0.6552\n",
      "F1 Score: 0.7379\n",
      "Validation loss improved, model saved.\n",
      "Epoch [31/50]\n",
      "Training Loss: 0.1313\n",
      "Validation Loss: 0.1519\n",
      "Validation Accuracy: 81.12%\n",
      "Precision: 0.8444\n",
      "Recall: 0.6552\n",
      "F1 Score: 0.7379\n",
      "Validation loss improved, model saved.\n",
      "Epoch [32/50]\n",
      "Training Loss: 0.1314\n",
      "Validation Loss: 0.1519\n",
      "Validation Accuracy: 81.12%\n",
      "Precision: 0.8444\n",
      "Recall: 0.6552\n",
      "F1 Score: 0.7379\n",
      "Validation loss improved, model saved.\n",
      "Epoch [33/50]\n",
      "Training Loss: 0.1313\n",
      "Validation Loss: 0.1519\n",
      "Validation Accuracy: 81.12%\n",
      "Precision: 0.8444\n",
      "Recall: 0.6552\n",
      "F1 Score: 0.7379\n",
      "Validation loss improved, model saved.\n",
      "Epoch [34/50]\n",
      "Training Loss: 0.1310\n",
      "Validation Loss: 0.1519\n",
      "Validation Accuracy: 81.12%\n",
      "Precision: 0.8444\n",
      "Recall: 0.6552\n",
      "F1 Score: 0.7379\n",
      "Validation loss improved, model saved.\n",
      "Epoch [35/50]\n",
      "Training Loss: 0.1311\n",
      "Validation Loss: 0.1519\n",
      "Validation Accuracy: 81.12%\n",
      "Precision: 0.8444\n",
      "Recall: 0.6552\n",
      "F1 Score: 0.7379\n",
      "Validation loss improved, model saved.\n",
      "Epoch [36/50]\n",
      "Training Loss: 0.1308\n",
      "Validation Loss: 0.1519\n",
      "Validation Accuracy: 81.12%\n",
      "Precision: 0.8444\n",
      "Recall: 0.6552\n",
      "F1 Score: 0.7379\n",
      "Validation loss improved, model saved.\n",
      "Epoch [37/50]\n",
      "Training Loss: 0.1306\n",
      "Validation Loss: 0.1519\n",
      "Validation Accuracy: 81.12%\n",
      "Precision: 0.8444\n",
      "Recall: 0.6552\n",
      "F1 Score: 0.7379\n",
      "Validation loss improved, model saved.\n",
      "Epoch [38/50]\n",
      "Training Loss: 0.1314\n",
      "Validation Loss: 0.1519\n",
      "Validation Accuracy: 81.12%\n",
      "Precision: 0.8444\n",
      "Recall: 0.6552\n",
      "F1 Score: 0.7379\n",
      "Validation loss improved, model saved.\n",
      "Epoch [39/50]\n",
      "Training Loss: 0.1313\n",
      "Validation Loss: 0.1519\n",
      "Validation Accuracy: 81.12%\n",
      "Precision: 0.8444\n",
      "Recall: 0.6552\n",
      "F1 Score: 0.7379\n",
      "Validation loss improved, model saved.\n",
      "Epoch [40/50]\n",
      "Training Loss: 0.1317\n",
      "Validation Loss: 0.1519\n",
      "Validation Accuracy: 81.12%\n",
      "Precision: 0.8444\n",
      "Recall: 0.6552\n",
      "F1 Score: 0.7379\n",
      "Validation loss improved, model saved.\n",
      "Epoch [41/50]\n",
      "Training Loss: 0.1316\n",
      "Validation Loss: 0.1519\n",
      "Validation Accuracy: 81.12%\n",
      "Precision: 0.8444\n",
      "Recall: 0.6552\n",
      "F1 Score: 0.7379\n",
      "Validation loss improved, model saved.\n",
      "Epoch [42/50]\n",
      "Training Loss: 0.1318\n",
      "Validation Loss: 0.1519\n",
      "Validation Accuracy: 81.12%\n",
      "Precision: 0.8444\n",
      "Recall: 0.6552\n",
      "F1 Score: 0.7379\n",
      "Validation loss improved, model saved.\n",
      "Epoch [43/50]\n",
      "Training Loss: 0.1320\n",
      "Validation Loss: 0.1519\n",
      "Validation Accuracy: 81.12%\n",
      "Precision: 0.8444\n",
      "Recall: 0.6552\n",
      "F1 Score: 0.7379\n",
      "Validation loss improved, model saved.\n",
      "Epoch [44/50]\n",
      "Training Loss: 0.1311\n",
      "Validation Loss: 0.1519\n",
      "Validation Accuracy: 81.12%\n",
      "Precision: 0.8444\n",
      "Recall: 0.6552\n",
      "F1 Score: 0.7379\n",
      "Validation loss improved, model saved.\n",
      "Epoch [45/50]\n",
      "Training Loss: 0.1312\n",
      "Validation Loss: 0.1519\n",
      "Validation Accuracy: 81.12%\n",
      "Precision: 0.8444\n",
      "Recall: 0.6552\n",
      "F1 Score: 0.7379\n",
      "Validation loss improved, model saved.\n",
      "Epoch [46/50]\n",
      "Training Loss: 0.1305\n",
      "Validation Loss: 0.1519\n",
      "Validation Accuracy: 81.12%\n",
      "Precision: 0.8444\n",
      "Recall: 0.6552\n",
      "F1 Score: 0.7379\n",
      "Validation loss improved, model saved.\n",
      "Epoch [47/50]\n",
      "Training Loss: 0.1316\n",
      "Validation Loss: 0.1519\n",
      "Validation Accuracy: 81.12%\n",
      "Precision: 0.8444\n",
      "Recall: 0.6552\n",
      "F1 Score: 0.7379\n",
      "Validation loss improved, model saved.\n",
      "Epoch [48/50]\n",
      "Training Loss: 0.1310\n",
      "Validation Loss: 0.1519\n",
      "Validation Accuracy: 81.12%\n",
      "Precision: 0.8444\n",
      "Recall: 0.6552\n",
      "F1 Score: 0.7379\n",
      "Validation loss improved, model saved.\n",
      "Epoch [49/50]\n",
      "Training Loss: 0.1313\n",
      "Validation Loss: 0.1519\n",
      "Validation Accuracy: 81.12%\n",
      "Precision: 0.8444\n",
      "Recall: 0.6552\n",
      "F1 Score: 0.7379\n",
      "Validation loss improved, model saved.\n",
      "Epoch [50/50]\n",
      "Training Loss: 0.1310\n",
      "Validation Loss: 0.1519\n",
      "Validation Accuracy: 81.12%\n",
      "Precision: 0.8444\n",
      "Recall: 0.6552\n",
      "F1 Score: 0.7379\n",
      "Validation loss improved, model saved.\n",
      "Validation Loss: 0.1519, Accuracy: 81.12%\n"
     ]
    },
    {
     "data": {
      "image/png": "[encoded data removed]",
      "text/plain": [
       "<Figure size 1000x500 with 1 Axes>"
      ]
     },
     "metadata": {},
     "output_type": "display_data"
    },
    {
     "data": {
      "image/png": "[encoded data removed]",
      "text/plain": [
       "<Figure size 1000x500 with 1 Axes>"
      ]
     },
     "metadata": {},
     "output_type": "display_data"
    }
   ],
   "source": [
    "# Using MSELoss for training the model on the Titanic dataset with improvements\n",
    "\n",
    "\n",
    "mse_model = SimpleMLP(\n",
    "    input_dim=input_dim,\n",
    "    hidden_dim=hidden_dim,\n",
    "    output_dim=output_dim,\n",
    "    num_hidden_layers=num_hidden_layers,\n",
    "    last_layer_activation_fn=nn.Sigmoid  # Added Sigmoid activation function\n",
    ")\n",
    "\n",
    "# Define the loss function using Mean Squared Error (MSELoss)\n",
    "mse_loss_function = nn.MSELoss()\n",
    "\n",
    "# Define the optimizer (Adam optimizer with a learning rate of 0.001)\n",
    "mse_optimizer = torch.optim.Adam(mse_model.parameters(), lr=0.001)\n",
    "\n",
    "# Define a learning rate scheduler to adjust the learning rate during training\n",
    "mse_scheduler = StepLR(mse_optimizer, step_size=10, gamma=0.1)\n",
    "\n",
    "# Instantiate the SimpleMLPTrainer with the model, loss function, optimizer, and scheduler\n",
    "mse_trainer = SimpleMLPTrainer(\n",
    "    model=mse_model,\n",
    "    criterion=mse_loss_function,\n",
    "    optimizer=mse_optimizer,\n",
    "    scheduler=mse_scheduler,\n",
    "    save_model=True,                    # Save the model when validation loss improves\n",
    "    checkpoint_path='best_mse_model.pth'  # Path to save the best model\n",
    ")\n",
    "\n",
    "# Set the number of epochs for training\n",
    "num_epochs = 50\n",
    "\n",
    "# Implement early stopping parameters\n",
    "early_stopping_patience = 5  # Stop training if validation loss doesn't improve for 5 consecutive epochs\n",
    "best_val_loss = float('inf')\n",
    "epochs_without_improvement = 0\n",
    "\n",
    "# Lists to store training and validation metrics\n",
    "mse_training_losses = []\n",
    "mse_validation_losses = []\n",
    "mse_validation_accuracies = []\n",
    "mse_validation_precisions = []\n",
    "mse_validation_recalls = []\n",
    "mse_validation_f1s = []\n",
    "\n",
    "# Training loop with early stopping and metric tracking\n",
    "for epoch in range(num_epochs):\n",
    "    # Training phase\n",
    "    mse_model.train()\n",
    "    running_loss = 0.0\n",
    "    for batch_inputs, batch_targets in train_loader:\n",
    "        mse_optimizer.zero_grad()\n",
    "        predictions = mse_model(batch_inputs)\n",
    "        loss = mse_loss_function(predictions, batch_targets)\n",
    "        loss.backward()\n",
    "        mse_optimizer.step()\n",
    "        running_loss += loss.item()\n",
    "    avg_training_loss = running_loss / len(train_loader)\n",
    "    mse_training_losses.append(avg_training_loss)\n",
    "\n",
    "    # Validation phase\n",
    "    mse_model.eval()\n",
    "    val_loss = 0.0\n",
    "    all_targets = []\n",
    "    all_predictions = []\n",
    "    with torch.no_grad():\n",
    "        for batch_inputs, batch_targets in val_loader:\n",
    "            predictions = mse_model(batch_inputs)\n",
    "            loss = mse_loss_function(predictions, batch_targets)\n",
    "            val_loss += loss.item()\n",
    "\n",
    "            # Since outputs are already probabilities, use them directly\n",
    "            predicted_labels = (predictions >= 0.5).float().squeeze()\n",
    "            all_predictions.extend(predicted_labels.cpu().numpy())\n",
    "            all_targets.extend(batch_targets.cpu().numpy())\n",
    "\n",
    "    avg_val_loss = val_loss / len(val_loader)\n",
    "    mse_validation_losses.append(avg_val_loss)\n",
    "\n",
    "    # Calculate additional metrics\n",
    "    accuracy = (np.array(all_predictions) == np.array(all_targets).flatten()).mean() * 100\n",
    "    precision = precision_score(all_targets, all_predictions, zero_division=0)\n",
    "    recall = recall_score(all_targets, all_predictions, zero_division=0)\n",
    "    f1 = f1_score(all_targets, all_predictions, zero_division=0)\n",
    "    mse_validation_accuracies.append(accuracy)\n",
    "    mse_validation_precisions.append(precision)\n",
    "    mse_validation_recalls.append(recall)\n",
    "    mse_validation_f1s.append(f1)\n",
    "\n",
    "    # Print metrics\n",
    "    print(f\"Epoch [{epoch+1}/{num_epochs}]\")\n",
    "    print(f\"Training Loss: {avg_training_loss:.4f}\")\n",
    "    print(f\"Validation Loss: {avg_val_loss:.4f}\")\n",
    "    print(f\"Validation Accuracy: {accuracy:.2f}%\")\n",
    "    print(f\"Precision: {precision:.4f}\")\n",
    "    print(f\"Recall: {recall:.4f}\")\n",
    "    print(f\"F1 Score: {f1:.4f}\")\n",
    "\n",
    "    # Check for improvement\n",
    "    if avg_val_loss < best_val_loss:\n",
    "        best_val_loss = avg_val_loss\n",
    "        epochs_without_improvement = 0\n",
    "        # Save the best model\n",
    "        torch.save(mse_model.state_dict(), 'best_mse_model.pth')\n",
    "        print(\"Validation loss improved, model saved.\")\n",
    "    else:\n",
    "        epochs_without_improvement += 1\n",
    "        print(f\"No improvement in validation loss for {epochs_without_improvement} epochs.\")\n",
    "\n",
    "    # Early stopping\n",
    "    if epochs_without_improvement >= early_stopping_patience:\n",
    "        print(\"Early stopping triggered.\")\n",
    "        break\n",
    "\n",
    "    # Step the scheduler\n",
    "    mse_scheduler.step()\n",
    "\n",
    "# Load the best model before evaluation\n",
    "mse_model.load_state_dict(torch.load('best_mse_model.pth'))\n",
    "\n",
    "# Evaluate the model on the validation set\n",
    "final_val_loss, final_val_accuracy = mse_trainer.evaluate(val_loader)\n",
    "\n",
    "# # Plot training and validation losses\n",
    "# plt.figure(figsize=(10, 5))\n",
    "# plt.plot(range(1, len(mse_training_losses)+1), mse_training_losses, label='Training Loss')\n",
    "# plt.plot(range(1, len(mse_validation_losses)+1), mse_validation_losses, label='Validation Loss')\n",
    "# plt.xlabel('Epoch')\n",
    "# plt.ylabel('Loss')\n",
    "# plt.title('Training and Validation Loss over Epochs (MSELoss)')\n",
    "# plt.legend()\n",
    "# plt.show()\n",
    "\n",
    "# # Plot validation accuracy, precision, recall, and F1 score\n",
    "# plt.figure(figsize=(10, 5))\n",
    "# plt.plot(range(1, len(mse_validation_accuracies)+1), mse_validation_accuracies, label='Accuracy')\n",
    "# plt.plot(range(1, len(mse_validation_precisions)+1), mse_validation_precisions, label='Precision')\n",
    "# plt.plot(range(1, len(mse_validation_recalls)+1), mse_validation_recalls, label='Recall')\n",
    "# plt.plot(range(1, len(mse_validation_f1s)+1), mse_validation_f1s, label='F1 Score')\n",
    "# plt.xlabel('Epoch')\n",
    "# plt.ylabel('Metric')\n",
    "# plt.title('Validation Metrics over Epochs (MSELoss)')\n",
    "# plt.legend()\n",
    "# plt.show()\n"
   ]
  },
  {
   "cell_type": "markdown",
   "metadata": {},
   "source": [
    "### 3. NLLLoss (`torch.nn.NLLLoss`)\n",
    "- **Description:** Negative Log-Likelihood Loss measures the likelihood of the target class under the predicted probability distribution.\n",
    "- **Use Case:** Typically used in multi-class classification tasks, especially when combined with `log_softmax` activation.\n",
    "\n",
    "Here is the mathematical formulation of NLLLoss:\n",
    "\\begin{equation}\n",
    "\\text{NLLLoss} = -\\frac{1}{n} \\sum_{i=1}^{n} \\log(y_{i})\n",
    "\\end{equation}\n",
    "\n",
    "I hope you note the logarithm in the formula. It's important! \n",
    "\n",
    "Why?\n",
    "\n",
    "\n",
    "In this part, run your training with Relu at last layer. <span style=\"color:red; font-weight: bold;\">Discuss </span> and explain the difference between the results of the two models. Find a proper solution to the problem.\n"
   ]
  },
  {
   "cell_type": "code",
   "execution_count": null,
   "metadata": {},
   "outputs": [
    {
     "name": "stderr",
     "output_type": "stream",
     "text": [
      "c:\\Users\\user\\AppData\\Local\\Programs\\Python\\Python312\\Lib\\site-packages\\urllib3\\connectionpool.py:1095: InsecureRequestWarning: Unverified HTTPS request is being made to host 'raw.githubusercontent.com'. Adding certificate verification is strongly advised. See: https://urllib3.readthedocs.io/en/latest/advanced-usage.html#tls-warnings\n",
      "  warnings.warn(\n",
      "Epoch 1/20: 100%|██████████| 18/18 [00:00<00:00, 340.25it/s]\n"
     ]
    },
    {
     "name": "stdout",
     "output_type": "stream",
     "text": [
      "Epoch [1/20], Loss: -0.8111\n",
      "Validation Loss: -1.1250, Accuracy: 47.55%\n"
     ]
    },
    {
     "name": "stderr",
     "output_type": "stream",
     "text": [
      "Epoch 2/20: 100%|██████████| 18/18 [00:00<00:00, 425.94it/s]\n"
     ]
    },
    {
     "name": "stdout",
     "output_type": "stream",
     "text": [
      "Epoch [2/20], Loss: -1.2510\n",
      "Validation Loss: -1.6599, Accuracy: 48.25%\n"
     ]
    },
    {
     "name": "stderr",
     "output_type": "stream",
     "text": [
      "Epoch 3/20: 100%|██████████| 18/18 [00:00<00:00, 644.07it/s]\n"
     ]
    },
    {
     "name": "stdout",
     "output_type": "stream",
     "text": [
      "Epoch [3/20], Loss: -1.8502\n",
      "Validation Loss: -2.3210, Accuracy: 47.55%\n"
     ]
    },
    {
     "name": "stderr",
     "output_type": "stream",
     "text": [
      "Epoch 4/20: 100%|██████████| 18/18 [00:00<00:00, 608.19it/s]\n"
     ]
    },
    {
     "name": "stdout",
     "output_type": "stream",
     "text": [
      "Epoch [4/20], Loss: -2.5660\n",
      "Validation Loss: -3.0528, Accuracy: 53.85%\n"
     ]
    },
    {
     "name": "stderr",
     "output_type": "stream",
     "text": [
      "Epoch 5/20: 100%|██████████| 18/18 [00:00<00:00, 874.03it/s]\n"
     ]
    },
    {
     "name": "stdout",
     "output_type": "stream",
     "text": [
      "Epoch [5/20], Loss: -3.3508\n",
      "Validation Loss: -3.9134, Accuracy: 55.94%\n"
     ]
    },
    {
     "name": "stderr",
     "output_type": "stream",
     "text": [
      "Epoch 6/20: 100%|██████████| 18/18 [00:00<00:00, 449.60it/s]\n"
     ]
    },
    {
     "name": "stdout",
     "output_type": "stream",
     "text": [
      "Epoch [6/20], Loss: -4.3061\n",
      "Validation Loss: -4.9263, Accuracy: 56.64%\n"
     ]
    },
    {
     "name": "stderr",
     "output_type": "stream",
     "text": [
      "Epoch 7/20: 100%|██████████| 18/18 [00:00<00:00, 345.47it/s]\n"
     ]
    },
    {
     "name": "stdout",
     "output_type": "stream",
     "text": [
      "Epoch [7/20], Loss: -5.4499\n",
      "Validation Loss: -6.1513, Accuracy: 59.44%\n"
     ]
    },
    {
     "name": "stderr",
     "output_type": "stream",
     "text": [
      "Epoch 8/20: 100%|██████████| 18/18 [00:00<00:00, 355.81it/s]\n"
     ]
    },
    {
     "name": "stdout",
     "output_type": "stream",
     "text": [
      "Epoch [8/20], Loss: -6.7668\n",
      "Validation Loss: -7.6254, Accuracy: 65.03%\n"
     ]
    },
    {
     "name": "stderr",
     "output_type": "stream",
     "text": [
      "Epoch 9/20: 100%|██████████| 18/18 [00:00<00:00, 157.47it/s]\n"
     ]
    },
    {
     "name": "stdout",
     "output_type": "stream",
     "text": [
      "Epoch [9/20], Loss: -8.4183\n",
      "Validation Loss: -9.3493, Accuracy: 65.73%\n"
     ]
    },
    {
     "name": "stderr",
     "output_type": "stream",
     "text": [
      "Epoch 10/20: 100%|██████████| 18/18 [00:00<00:00, 374.50it/s]\n"
     ]
    },
    {
     "name": "stdout",
     "output_type": "stream",
     "text": [
      "Epoch [10/20], Loss: -10.3022\n",
      "Validation Loss: -11.4378, Accuracy: 67.13%\n"
     ]
    },
    {
     "name": "stderr",
     "output_type": "stream",
     "text": [
      "Epoch 11/20: 100%|██████████| 18/18 [00:00<00:00, 432.62it/s]\n"
     ]
    },
    {
     "name": "stdout",
     "output_type": "stream",
     "text": [
      "Epoch [11/20], Loss: -12.5406\n",
      "Validation Loss: -13.8604, Accuracy: 69.93%\n"
     ]
    },
    {
     "name": "stderr",
     "output_type": "stream",
     "text": [
      "Epoch 12/20: 100%|██████████| 18/18 [00:00<00:00, 428.04it/s]\n"
     ]
    },
    {
     "name": "stdout",
     "output_type": "stream",
     "text": [
      "Epoch [12/20], Loss: -15.1631\n",
      "Validation Loss: -16.6393, Accuracy: 70.63%\n"
     ]
    },
    {
     "name": "stderr",
     "output_type": "stream",
     "text": [
      "Epoch 13/20: 100%|██████████| 18/18 [00:00<00:00, 322.61it/s]\n"
     ]
    },
    {
     "name": "stdout",
     "output_type": "stream",
     "text": [
      "Epoch [13/20], Loss: -18.2372\n",
      "Validation Loss: -19.9133, Accuracy: 72.73%\n"
     ]
    },
    {
     "name": "stderr",
     "output_type": "stream",
     "text": [
      "Epoch 14/20: 100%|██████████| 18/18 [00:00<00:00, 374.63it/s]\n"
     ]
    },
    {
     "name": "stdout",
     "output_type": "stream",
     "text": [
      "Epoch [14/20], Loss: -21.8062\n",
      "Validation Loss: -23.7011, Accuracy: 72.73%\n"
     ]
    },
    {
     "name": "stderr",
     "output_type": "stream",
     "text": [
      "Epoch 15/20: 100%|██████████| 18/18 [00:00<00:00, 406.72it/s]\n"
     ]
    },
    {
     "name": "stdout",
     "output_type": "stream",
     "text": [
      "Epoch [15/20], Loss: -25.9689\n",
      "Validation Loss: -28.0982, Accuracy: 72.03%\n"
     ]
    },
    {
     "name": "stderr",
     "output_type": "stream",
     "text": [
      "Epoch 16/20: 100%|██████████| 18/18 [00:00<00:00, 475.46it/s]\n"
     ]
    },
    {
     "name": "stdout",
     "output_type": "stream",
     "text": [
      "Epoch [16/20], Loss: -30.7140\n",
      "Validation Loss: -33.2038, Accuracy: 72.03%\n"
     ]
    },
    {
     "name": "stderr",
     "output_type": "stream",
     "text": [
      "Epoch 17/20: 100%|██████████| 18/18 [00:00<00:00, 443.39it/s]\n"
     ]
    },
    {
     "name": "stdout",
     "output_type": "stream",
     "text": [
      "Epoch [17/20], Loss: -36.2996\n",
      "Validation Loss: -38.9901, Accuracy: 71.33%\n"
     ]
    },
    {
     "name": "stderr",
     "output_type": "stream",
     "text": [
      "Epoch 18/20: 100%|██████████| 18/18 [00:00<00:00, 432.58it/s]\n"
     ]
    },
    {
     "name": "stdout",
     "output_type": "stream",
     "text": [
      "Epoch [18/20], Loss: -42.6624\n",
      "Validation Loss: -45.5577, Accuracy: 67.13%\n"
     ]
    },
    {
     "name": "stderr",
     "output_type": "stream",
     "text": [
      "Epoch 19/20: 100%|██████████| 18/18 [00:00<00:00, 589.49it/s]\n"
     ]
    },
    {
     "name": "stdout",
     "output_type": "stream",
     "text": [
      "Epoch [19/20], Loss: -49.8115\n",
      "Validation Loss: -53.0735, Accuracy: 49.65%\n"
     ]
    },
    {
     "name": "stderr",
     "output_type": "stream",
     "text": [
      "Epoch 20/20: 100%|██████████| 18/18 [00:00<00:00, 479.80it/s]\n"
     ]
    },
    {
     "name": "stdout",
     "output_type": "stream",
     "text": [
      "Epoch [20/20], Loss: -58.0678\n",
      "Validation Loss: -61.4787, Accuracy: 48.95%\n"
     ]
    },
    {
     "name": "stderr",
     "output_type": "stream",
     "text": [
      "Epoch 1/20: 100%|██████████| 18/18 [00:00<00:00, 120.47it/s]\n"
     ]
    },
    {
     "name": "stdout",
     "output_type": "stream",
     "text": [
      "Epoch [1/20], Loss: 0.6199\n",
      "Validation Loss: 0.6391, Accuracy: 69.23%\n"
     ]
    },
    {
     "name": "stderr",
     "output_type": "stream",
     "text": [
      "Epoch 2/20: 100%|██████████| 18/18 [00:00<00:00, 361.31it/s]\n"
     ]
    },
    {
     "name": "stdout",
     "output_type": "stream",
     "text": [
      "Epoch [2/20], Loss: 0.5367\n",
      "Validation Loss: 0.5776, Accuracy: 75.52%\n"
     ]
    },
    {
     "name": "stderr",
     "output_type": "stream",
     "text": [
      "Epoch 3/20: 100%|██████████| 18/18 [00:00<00:00, 415.99it/s]\n"
     ]
    },
    {
     "name": "stdout",
     "output_type": "stream",
     "text": [
      "Epoch [3/20], Loss: 0.4946\n",
      "Validation Loss: 0.5509, Accuracy: 76.92%\n"
     ]
    },
    {
     "name": "stderr",
     "output_type": "stream",
     "text": [
      "Epoch 4/20: 100%|██████████| 18/18 [00:00<00:00, 330.47it/s]\n"
     ]
    },
    {
     "name": "stdout",
     "output_type": "stream",
     "text": [
      "Epoch [4/20], Loss: 0.4745\n",
      "Validation Loss: 0.5440, Accuracy: 76.92%\n"
     ]
    },
    {
     "name": "stderr",
     "output_type": "stream",
     "text": [
      "Epoch 5/20: 100%|██████████| 18/18 [00:00<00:00, 403.97it/s]\n"
     ]
    },
    {
     "name": "stdout",
     "output_type": "stream",
     "text": [
      "Epoch [5/20], Loss: 0.4644\n",
      "Validation Loss: 0.5332, Accuracy: 75.52%\n"
     ]
    },
    {
     "name": "stderr",
     "output_type": "stream",
     "text": [
      "Epoch 6/20: 100%|██████████| 18/18 [00:00<00:00, 381.67it/s]\n"
     ]
    },
    {
     "name": "stdout",
     "output_type": "stream",
     "text": [
      "Epoch [6/20], Loss: 0.4540\n",
      "Validation Loss: 0.5257, Accuracy: 76.22%\n"
     ]
    },
    {
     "name": "stderr",
     "output_type": "stream",
     "text": [
      "Epoch 7/20: 100%|██████████| 18/18 [00:00<00:00, 385.08it/s]\n"
     ]
    },
    {
     "name": "stdout",
     "output_type": "stream",
     "text": [
      "Epoch [7/20], Loss: 0.4512\n",
      "Validation Loss: 0.5224, Accuracy: 76.22%\n"
     ]
    },
    {
     "name": "stderr",
     "output_type": "stream",
     "text": [
      "Epoch 8/20: 100%|██████████| 18/18 [00:00<00:00, 389.68it/s]\n"
     ]
    },
    {
     "name": "stdout",
     "output_type": "stream",
     "text": [
      "Epoch [8/20], Loss: 0.4446\n",
      "Validation Loss: 0.5152, Accuracy: 76.22%\n"
     ]
    },
    {
     "name": "stderr",
     "output_type": "stream",
     "text": [
      "Epoch 9/20: 100%|██████████| 18/18 [00:00<00:00, 620.54it/s]\n"
     ]
    },
    {
     "name": "stdout",
     "output_type": "stream",
     "text": [
      "Epoch [9/20], Loss: 0.4397\n",
      "Validation Loss: 0.5107, Accuracy: 76.22%\n"
     ]
    },
    {
     "name": "stderr",
     "output_type": "stream",
     "text": [
      "Epoch 10/20: 100%|██████████| 18/18 [00:00<00:00, 482.09it/s]\n"
     ]
    },
    {
     "name": "stdout",
     "output_type": "stream",
     "text": [
      "Epoch [10/20], Loss: 0.4372\n",
      "Validation Loss: 0.5094, Accuracy: 76.92%\n"
     ]
    },
    {
     "name": "stderr",
     "output_type": "stream",
     "text": [
      "Epoch 11/20: 100%|██████████| 18/18 [00:00<00:00, 693.48it/s]\n"
     ]
    },
    {
     "name": "stdout",
     "output_type": "stream",
     "text": [
      "Epoch [11/20], Loss: 0.4341\n",
      "Validation Loss: 0.5031, Accuracy: 76.22%\n"
     ]
    },
    {
     "name": "stderr",
     "output_type": "stream",
     "text": [
      "Epoch 12/20: 100%|██████████| 18/18 [00:00<00:00, 361.23it/s]\n"
     ]
    },
    {
     "name": "stdout",
     "output_type": "stream",
     "text": [
      "Epoch [12/20], Loss: 0.4309\n",
      "Validation Loss: 0.5000, Accuracy: 76.22%\n"
     ]
    },
    {
     "name": "stderr",
     "output_type": "stream",
     "text": [
      "Epoch 13/20: 100%|██████████| 18/18 [00:00<00:00, 199.73it/s]\n"
     ]
    },
    {
     "name": "stdout",
     "output_type": "stream",
     "text": [
      "Epoch [13/20], Loss: 0.4267\n",
      "Validation Loss: 0.5036, Accuracy: 75.52%\n"
     ]
    },
    {
     "name": "stderr",
     "output_type": "stream",
     "text": [
      "Epoch 14/20: 100%|██████████| 18/18 [00:00<00:00, 368.38it/s]\n"
     ]
    },
    {
     "name": "stdout",
     "output_type": "stream",
     "text": [
      "Epoch [14/20], Loss: 0.4258\n",
      "Validation Loss: 0.4973, Accuracy: 76.22%\n"
     ]
    },
    {
     "name": "stderr",
     "output_type": "stream",
     "text": [
      "Epoch 15/20: 100%|██████████| 18/18 [00:00<00:00, 422.99it/s]\n"
     ]
    },
    {
     "name": "stdout",
     "output_type": "stream",
     "text": [
      "Epoch [15/20], Loss: 0.4230\n",
      "Validation Loss: 0.4941, Accuracy: 75.52%\n"
     ]
    },
    {
     "name": "stderr",
     "output_type": "stream",
     "text": [
      "Epoch 16/20: 100%|██████████| 18/18 [00:00<00:00, 505.92it/s]\n"
     ]
    },
    {
     "name": "stdout",
     "output_type": "stream",
     "text": [
      "Epoch [16/20], Loss: 0.4209\n",
      "Validation Loss: 0.4934, Accuracy: 75.52%\n"
     ]
    },
    {
     "name": "stderr",
     "output_type": "stream",
     "text": [
      "Epoch 17/20: 100%|██████████| 18/18 [00:00<00:00, 288.60it/s]\n"
     ]
    },
    {
     "name": "stdout",
     "output_type": "stream",
     "text": [
      "Epoch [17/20], Loss: 0.4195\n",
      "Validation Loss: 0.4944, Accuracy: 75.52%\n"
     ]
    },
    {
     "name": "stderr",
     "output_type": "stream",
     "text": [
      "Epoch 18/20: 100%|██████████| 18/18 [00:00<00:00, 403.32it/s]\n"
     ]
    },
    {
     "name": "stdout",
     "output_type": "stream",
     "text": [
      "Epoch [18/20], Loss: 0.4171\n",
      "Validation Loss: 0.4955, Accuracy: 75.52%\n"
     ]
    },
    {
     "name": "stderr",
     "output_type": "stream",
     "text": [
      "Epoch 19/20: 100%|██████████| 18/18 [00:00<00:00, 352.79it/s]\n"
     ]
    },
    {
     "name": "stdout",
     "output_type": "stream",
     "text": [
      "Epoch [19/20], Loss: 0.4147\n",
      "Validation Loss: 0.4974, Accuracy: 75.52%\n"
     ]
    },
    {
     "name": "stderr",
     "output_type": "stream",
     "text": [
      "Epoch 20/20: 100%|██████████| 18/18 [00:00<00:00, 366.30it/s]"
     ]
    },
    {
     "name": "stdout",
     "output_type": "stream",
     "text": [
      "Epoch [20/20], Loss: 0.4161\n",
      "Validation Loss: 0.4982, Accuracy: 76.22%\n"
     ]
    },
    {
     "name": "stderr",
     "output_type": "stream",
     "text": [
      "\n"
     ]
    }
   ],
   "source": [
    "\n",
    "\n",
    "# Data loading and preprocessing\n",
    "train_url = \"https://raw.githubusercontent.com/datasciencedojo/datasets/master/titanic.csv\"\n",
    "response = requests.get(train_url, verify=False)\n",
    "titanic_data = pd.read_csv(StringIO(response.text))\n",
    "\n",
    "# Select relevant features and drop missing values\n",
    "titanic_data = titanic_data[['Pclass', 'Sex', 'Age', 'Fare', 'Survived']].dropna()\n",
    "titanic_data['Sex'] = titanic_data['Sex'].map({'male': 0, 'female': 1})\n",
    "\n",
    "# Extract features and labels\n",
    "feature_array = titanic_data[['Pclass', 'Sex', 'Age', 'Fare']].values\n",
    "label_array = titanic_data['Survived'].values\n",
    "\n",
    "# Scale features using StandardScaler\n",
    "scaler = StandardScaler()\n",
    "scaled_feature_array = scaler.fit_transform(feature_array)\n",
    "\n",
    "# Convert numpy arrays to PyTorch tensors\n",
    "feature_tensor = torch.tensor(scaled_feature_array, dtype=torch.float32)\n",
    "# For NLLLoss, labels should be LongTensors with class indices\n",
    "label_tensor = torch.tensor(label_array, dtype=torch.long)\n",
    "\n",
    "# Create a TensorDataset from tensors\n",
    "titanic_dataset = TensorDataset(feature_tensor, label_tensor)\n",
    "\n",
    "# Split the dataset into training and validation sets\n",
    "train_dataset_size = int(0.8 * len(titanic_dataset))\n",
    "validation_dataset_size = len(titanic_dataset) - train_dataset_size\n",
    "training_dataset, validation_dataset = random_split(\n",
    "    titanic_dataset, [train_dataset_size, validation_dataset_size]\n",
    ")\n",
    "\n",
    "# Create DataLoaders for training and validation\n",
    "training_loader = DataLoader(\n",
    "    training_dataset, batch_size=32, shuffle=True\n",
    ")\n",
    "validation_loader = DataLoader(\n",
    "    validation_dataset, batch_size=32, shuffle=False\n",
    ")\n",
    "\n",
    "# Define model parameters\n",
    "input_dimension = feature_array.shape[1]  # Number of input features from the dataset\n",
    "hidden_dimension = 16                     # Number of neurons in each hidden layer\n",
    "output_dimension = 2                      # Output dimension for multi-class classification (number of classes)\n",
    "number_of_hidden_layers = 2               # Total number of hidden layers in the model\n",
    "num_epochs = 20                           # Number of epochs for training\n",
    "\n",
    "# Model with ReLU as the last layer activation function\n",
    "nll_relu_model = SimpleMLP(\n",
    "    input_dim=input_dimension,\n",
    "    hidden_dim=hidden_dimension,\n",
    "    output_dim=output_dimension,\n",
    "    num_hidden_layers=number_of_hidden_layers,\n",
    "    last_layer_activation_fn=nn.ReLU  # Using ReLU as the last activation function\n",
    ")\n",
    "\n",
    "# Define the loss function and optimizer\n",
    "nll_loss_function = nn.NLLLoss()\n",
    "nll_optimizer = torch.optim.Adam(nll_relu_model.parameters(), lr=0.001)\n",
    "\n",
    "# Instantiate the SimpleMLPTrainer with the model, loss function, and optimizer\n",
    "nll_trainer = SimpleMLPTrainer(\n",
    "    model=nll_relu_model,\n",
    "    criterion=nll_loss_function,\n",
    "    optimizer=nll_optimizer\n",
    ")\n",
    "\n",
    "# Train the model\n",
    "try:\n",
    "    nll_training_losses = nll_trainer.train(\n",
    "        train_loader=training_loader,\n",
    "        num_epochs=num_epochs,\n",
    "        val_loader=validation_loader\n",
    "    )\n",
    "except Exception as e:\n",
    "    print(f\"An error occurred during training: {e}\")\n",
    "\n",
    "# Proper solution: Adjust the last activation function to LogSoftmax\n",
    "# This ensures that the outputs are log-probabilities as required by NLLLoss\n",
    "nll_logsoftmax_model = SimpleMLP(\n",
    "    input_dim=input_dimension,\n",
    "    hidden_dim=hidden_dimension,\n",
    "    output_dim=output_dimension,\n",
    "    num_hidden_layers=number_of_hidden_layers,\n",
    "    last_layer_activation_fn=lambda: nn.LogSoftmax(dim=1)  # Using LogSoftmax as the last activation function\n",
    ")\n",
    "\n",
    "# Redefine the loss function and optimizer\n",
    "nll_logsoftmax_optimizer = torch.optim.Adam(nll_logsoftmax_model.parameters(), lr=0.001)\n",
    "\n",
    "# Instantiate the trainer with the corrected model\n",
    "nll_logsoftmax_trainer = SimpleMLPTrainer(\n",
    "    model=nll_logsoftmax_model,\n",
    "    criterion=nll_loss_function,\n",
    "    optimizer=nll_logsoftmax_optimizer\n",
    ")\n",
    "\n",
    "# Train the corrected model\n",
    "nll_logsoftmax_training_losses = nll_logsoftmax_trainer.train(\n",
    "    train_loader=training_loader,\n",
    "    num_epochs=num_epochs,\n",
    "    val_loader=validation_loader\n",
    ")\n"
   ]
  },
  {
   "cell_type": "markdown",
   "metadata": {},
   "source": [
    "**Your reason for your choice:**\n",
    "\n",
    "**Difference between the two models:**\n",
    "\n",
    "- **Model with ReLU Activation in the Last Layer:**\n",
    "\n",
    "  - **Outputs:** Using `nn.ReLU` as the last activation function produces non-negative outputs that are not normalized and do not represent log-probabilities.\n",
    "  - **Loss Behavior:** The training loss becomes increasingly negative over epochs (as seen in the results), which is not typical or meaningful for a loss function. Negative loss values indicate that the loss computation is not functioning as intended.\n",
    "  - **Model Performance:** The accuracy fluctuates and eventually decreases, suggesting that the model is not learning effectively.\n",
    "\n",
    "- **Model with LogSoftmax Activation in the Last Layer:**\n",
    "\n",
    "  - **Outputs:** Using `nn.LogSoftmax(dim=1)` ensures that the model outputs are log-probabilities. This activation function applies softmax to produce probabilities that sum to one and then takes the logarithm.\n",
    "  - **Loss Behavior:** The training loss decreases over epochs, converging towards a minimum value. This is expected behavior for a properly functioning loss function.\n",
    "  - **Model Performance:** The validation accuracy improves and stabilizes at a higher percentage compared to the model with ReLU, indicating effective learning.\n",
    "\n",
    "**Explanation:**\n",
    "\n",
    "- **Importance of the Logarithm in NLLLoss:**\n",
    "\n",
    "  - The `nn.NLLLoss` function computes the negative log-likelihood loss, which requires the input to be log-probabilities of the classes.\n",
    "  - The mathematical formulation is:\n",
    "\n",
    "    \\[\n",
    "    \\text{NLLLoss} = -\\frac{1}{n} \\sum_{i=1}^{n} \\log(p_i)\n",
    "    \\]\n",
    "\n",
    "    where \\( p_i \\) is the predicted probability of the correct class for sample \\( i \\).\n",
    "\n",
    "- **Why ReLU is Inappropriate:**\n",
    "\n",
    "  - **ReLU Outputs:** The ReLU activation function outputs values in the range \\([0, \\infty)\\), which are not log-probabilities.\n",
    "  - **Mismatch with NLLLoss:** Feeding these non-logarithmic, non-normalized outputs into `nn.NLLLoss` leads to incorrect loss calculations and ineffective training.\n",
    "  - **Resulting Issues:** The loss becomes negative and decreases indefinitely, and the model fails to learn meaningful patterns from the data.\n",
    "\n",
    "- **Why LogSoftmax is Appropriate:**\n",
    "\n",
    "  - **LogSoftmax Outputs:** The `nn.LogSoftmax(dim=1)` activation function produces outputs that are log-probabilities, ensuring that after exponentiation, the probabilities sum to one.\n",
    "  - **Compatibility with NLLLoss:** Since `nn.NLLLoss` expects log-probabilities, using `nn.LogSoftmax` aligns the model's outputs with the loss function's requirements.\n",
    "  - **Effective Training:** This leads to meaningful loss values that decrease over time, allowing the model to learn effectively and improve accuracy.\n",
    "\n",
    "**Proper Solution:**\n",
    "\n",
    "- **Adjust the Last Activation Function:**\n",
    "\n",
    "  - Replace `nn.ReLU` with `nn.LogSoftmax(dim=1)` in the last layer of the model.\n",
    "  - This ensures that the outputs are suitable for `nn.NLLLoss`.\n",
    "\n",
    "- **Alternative Approach:**\n",
    "\n",
    "  - Use `nn.CrossEntropyLoss` instead of `nn.NLLLoss` and remove the last activation function.\n",
    "  - `nn.CrossEntropyLoss` combines `nn.LogSoftmax` and `nn.NLLLoss` internally and works directly with raw logits.\n",
    "\n",
    "\n",
    "\n",
    "I chose to adjust the last activation function to `nn.LogSoftmax(dim=1)` because it produces log-probabilities required by `nn.NLLLoss`. Using `nn.ReLU` was inappropriate since it does not output log-probabilities, leading to incorrect loss calculations and ineffective training.\n",
    "\n",
    "By ensuring that the model's outputs align with the loss function's expectations, the training process becomes effective, as evidenced by the decreasing loss and increasing accuracy in the results. This adjustment is crucial for the model to learn meaningful patterns and make accurate predictions.\n",
    "\n",
    "**Conclusion:**\n",
    "\n",
    "- The mismatch between the activation function and the loss function can severely impact model training.\n",
    "- Using `nn.LogSoftmax` with `nn.NLLLoss` ensures compatibility and effective learning.\n",
    "- Always ensure that the outputs of your model are appropriate for the loss function being used."
   ]
  },
  {
   "cell_type": "markdown",
   "metadata": {},
   "source": [
    "\n",
    "### 4. CrossEntropyLoss (`torch.nn.CrossEntropyLoss`)\n",
    "- **Description:** Combines `LogSoftmax` and `NLLLoss` in one single class. It computes the cross-entropy loss between the target and the output logits.\n",
    "- **Use Case:** Widely used for multi-class classification problems.\n",
    "\n",
    "The mathematical formulation of CrossEntropyLoss is as follows:\n",
    "\\begin{equation}\n",
    "  \\text{CrossEntropy}(y, \\hat{y}) = - \\sum_{i=1}^{C} y_i \\log\\left(\\frac{e^{\\hat{y}_i}}{\\sum_{j=1}^{C} e^{\\hat{y}_j}}\\right)\n",
    "\\end{equation}\n",
    "  where:\n",
    "  - \\( C \\) is the number of classes,\n",
    "  - \\( y_i \\) is a one-hot encoded target vector (or a scalar class label),\n",
    "  - \\( \\hat{y}_i \\) represents the logits (unnormalized model outputs) for each class.\n",
    "  \n",
    "  In practice, `torch.nn.CrossEntropyLoss` expects raw logits as input and internally applies the softmax function to convert the logits into probabilities, followed by the negative log-likelihood computation.\n",
    "\n",
    "- **Background:** Cross-entropy measures the difference between the true distribution \\( y \\) and the predicted distribution \\( \\hat{y} \\). The function minimizes the negative log-probability assigned to the correct class, effectively penalizing predictions that deviate from the true class, making it a standard choice for classification tasks in deep learning.\n",
    "\n",
    "Now, let's implement a class called `SimpleMLP_Loss` that has the following architecture:\n"
   ]
  },
  {
   "cell_type": "code",
   "execution_count": null,
   "metadata": {},
   "outputs": [
    {
     "name": "stderr",
     "output_type": "stream",
     "text": [
      "c:\\Users\\user\\AppData\\Local\\Programs\\Python\\Python312\\Lib\\site-packages\\urllib3\\connectionpool.py:1095: InsecureRequestWarning: Unverified HTTPS request is being made to host 'raw.githubusercontent.com'. Adding certificate verification is strongly advised. See: https://urllib3.readthedocs.io/en/latest/advanced-usage.html#tls-warnings\n",
      "  warnings.warn(\n",
      "Epoch 1/50: 100%|██████████| 18/18 [00:00<00:00, 381.91it/s]\n"
     ]
    },
    {
     "name": "stdout",
     "output_type": "stream",
     "text": [
      "Epoch [1/50]\n",
      "Training Loss: 0.9784\n",
      "Validation Loss: 0.7404\n",
      "Validation Accuracy: 46.85%\n",
      "Precision: 0.3594\n",
      "Recall: 0.3966\n",
      "F1 Score: 0.3770\n",
      "Validation loss improved, model saved.\n"
     ]
    },
    {
     "name": "stderr",
     "output_type": "stream",
     "text": [
      "Epoch 2/50: 100%|██████████| 18/18 [00:00<00:00, 690.51it/s]\n"
     ]
    },
    {
     "name": "stdout",
     "output_type": "stream",
     "text": [
      "Epoch [2/50]\n",
      "Training Loss: 0.7031\n",
      "Validation Loss: 0.5735\n",
      "Validation Accuracy: 79.02%\n",
      "Precision: 0.7121\n",
      "Recall: 0.8103\n",
      "F1 Score: 0.7581\n",
      "Validation loss improved, model saved.\n"
     ]
    },
    {
     "name": "stderr",
     "output_type": "stream",
     "text": [
      "Epoch 3/50: 100%|██████████| 18/18 [00:00<00:00, 418.18it/s]\n"
     ]
    },
    {
     "name": "stdout",
     "output_type": "stream",
     "text": [
      "Epoch [3/50]\n",
      "Training Loss: 0.5665\n",
      "Validation Loss: 0.5104\n",
      "Validation Accuracy: 79.02%\n",
      "Precision: 0.7500\n",
      "Recall: 0.7241\n",
      "F1 Score: 0.7368\n",
      "Validation loss improved, model saved.\n"
     ]
    },
    {
     "name": "stderr",
     "output_type": "stream",
     "text": [
      "Epoch 4/50: 100%|██████████| 18/18 [00:00<00:00, 449.35it/s]\n"
     ]
    },
    {
     "name": "stdout",
     "output_type": "stream",
     "text": [
      "Epoch [4/50]\n",
      "Training Loss: 0.5068\n",
      "Validation Loss: 0.4776\n",
      "Validation Accuracy: 79.02%\n",
      "Precision: 0.8043\n",
      "Recall: 0.6379\n",
      "F1 Score: 0.7115\n",
      "Validation loss improved, model saved.\n"
     ]
    },
    {
     "name": "stderr",
     "output_type": "stream",
     "text": [
      "Epoch 5/50: 100%|██████████| 18/18 [00:00<00:00, 443.89it/s]\n"
     ]
    },
    {
     "name": "stdout",
     "output_type": "stream",
     "text": [
      "Epoch [5/50]\n",
      "Training Loss: 0.4812\n",
      "Validation Loss: 0.4678\n",
      "Validation Accuracy: 79.02%\n",
      "Precision: 0.8182\n",
      "Recall: 0.6207\n",
      "F1 Score: 0.7059\n",
      "Validation loss improved, model saved.\n"
     ]
    },
    {
     "name": "stderr",
     "output_type": "stream",
     "text": [
      "Epoch 6/50: 100%|██████████| 18/18 [00:00<00:00, 167.98it/s]\n"
     ]
    },
    {
     "name": "stdout",
     "output_type": "stream",
     "text": [
      "Epoch [6/50]\n",
      "Training Loss: 0.4708\n",
      "Validation Loss: 0.4655\n",
      "Validation Accuracy: 76.92%\n",
      "Precision: 0.7660\n",
      "Recall: 0.6207\n",
      "F1 Score: 0.6857\n",
      "Validation loss improved, model saved.\n"
     ]
    },
    {
     "name": "stderr",
     "output_type": "stream",
     "text": [
      "Epoch 7/50: 100%|██████████| 18/18 [00:00<00:00, 589.62it/s]\n"
     ]
    },
    {
     "name": "stdout",
     "output_type": "stream",
     "text": [
      "Epoch [7/50]\n",
      "Training Loss: 0.4649\n",
      "Validation Loss: 0.4634\n",
      "Validation Accuracy: 76.92%\n",
      "Precision: 0.7273\n",
      "Recall: 0.6897\n",
      "F1 Score: 0.7080\n",
      "Validation loss improved, model saved.\n"
     ]
    },
    {
     "name": "stderr",
     "output_type": "stream",
     "text": [
      "Epoch 8/50: 100%|██████████| 18/18 [00:00<00:00, 749.36it/s]\n"
     ]
    },
    {
     "name": "stdout",
     "output_type": "stream",
     "text": [
      "Epoch [8/50]\n",
      "Training Loss: 0.4592\n",
      "Validation Loss: 0.4616\n",
      "Validation Accuracy: 76.92%\n",
      "Precision: 0.7273\n",
      "Recall: 0.6897\n",
      "F1 Score: 0.7080\n",
      "Validation loss improved, model saved.\n"
     ]
    },
    {
     "name": "stderr",
     "output_type": "stream",
     "text": [
      "Epoch 9/50: 100%|██████████| 18/18 [00:00<00:00, 443.17it/s]\n"
     ]
    },
    {
     "name": "stdout",
     "output_type": "stream",
     "text": [
      "Epoch [9/50]\n",
      "Training Loss: 0.4562\n",
      "Validation Loss: 0.4611\n",
      "Validation Accuracy: 76.22%\n",
      "Precision: 0.7143\n",
      "Recall: 0.6897\n",
      "F1 Score: 0.7018\n",
      "Validation loss improved, model saved.\n"
     ]
    },
    {
     "name": "stderr",
     "output_type": "stream",
     "text": [
      "Epoch 10/50: 100%|██████████| 18/18 [00:00<00:00, 781.35it/s]\n"
     ]
    },
    {
     "name": "stdout",
     "output_type": "stream",
     "text": [
      "Epoch [10/50]\n",
      "Training Loss: 0.4517\n",
      "Validation Loss: 0.4603\n",
      "Validation Accuracy: 76.22%\n",
      "Precision: 0.7143\n",
      "Recall: 0.6897\n",
      "F1 Score: 0.7018\n",
      "Validation loss improved, model saved.\n"
     ]
    },
    {
     "name": "stderr",
     "output_type": "stream",
     "text": [
      "Epoch 11/50: 100%|██████████| 18/18 [00:00<00:00, 477.90it/s]\n"
     ]
    },
    {
     "name": "stdout",
     "output_type": "stream",
     "text": [
      "Epoch [11/50]\n",
      "Training Loss: 0.4505\n",
      "Validation Loss: 0.4602\n",
      "Validation Accuracy: 76.22%\n",
      "Precision: 0.7143\n",
      "Recall: 0.6897\n",
      "F1 Score: 0.7018\n",
      "Validation loss improved, model saved.\n"
     ]
    },
    {
     "name": "stderr",
     "output_type": "stream",
     "text": [
      "Epoch 12/50: 100%|██████████| 18/18 [00:00<00:00, 460.92it/s]"
     ]
    },
    {
     "name": "stdout",
     "output_type": "stream",
     "text": [
      "Epoch [12/50]\n",
      "Training Loss: 0.4497\n",
      "Validation Loss: 0.4596\n",
      "Validation Accuracy: 76.22%\n",
      "Precision: 0.7143\n",
      "Recall: 0.6897\n",
      "F1 Score: 0.7018\n"
     ]
    },
    {
     "name": "stderr",
     "output_type": "stream",
     "text": [
      "\n"
     ]
    },
    {
     "name": "stdout",
     "output_type": "stream",
     "text": [
      "Validation loss improved, model saved.\n"
     ]
    },
    {
     "name": "stderr",
     "output_type": "stream",
     "text": [
      "Epoch 13/50: 100%|██████████| 18/18 [00:00<00:00, 428.16it/s]\n"
     ]
    },
    {
     "name": "stdout",
     "output_type": "stream",
     "text": [
      "Epoch [13/50]\n",
      "Training Loss: 0.4465\n",
      "Validation Loss: 0.4557\n",
      "Validation Accuracy: 74.83%\n",
      "Precision: 0.7200\n",
      "Recall: 0.6207\n",
      "F1 Score: 0.6667\n",
      "Validation loss improved, model saved.\n"
     ]
    },
    {
     "name": "stderr",
     "output_type": "stream",
     "text": [
      "Epoch 14/50: 100%|██████████| 18/18 [00:00<00:00, 403.59it/s]\n"
     ]
    },
    {
     "name": "stdout",
     "output_type": "stream",
     "text": [
      "Epoch [14/50]\n",
      "Training Loss: 0.4431\n",
      "Validation Loss: 0.4548\n",
      "Validation Accuracy: 76.92%\n",
      "Precision: 0.7273\n",
      "Recall: 0.6897\n",
      "F1 Score: 0.7080\n",
      "Validation loss improved, model saved.\n"
     ]
    },
    {
     "name": "stderr",
     "output_type": "stream",
     "text": [
      "Epoch 15/50: 100%|██████████| 18/18 [00:00<00:00, 473.79it/s]\n"
     ]
    },
    {
     "name": "stdout",
     "output_type": "stream",
     "text": [
      "Epoch [15/50]\n",
      "Training Loss: 0.4433\n",
      "Validation Loss: 0.4537\n",
      "Validation Accuracy: 76.92%\n",
      "Precision: 0.7358\n",
      "Recall: 0.6724\n",
      "F1 Score: 0.7027\n",
      "Validation loss improved, model saved.\n"
     ]
    },
    {
     "name": "stderr",
     "output_type": "stream",
     "text": [
      "Epoch 16/50: 100%|██████████| 18/18 [00:00<00:00, 409.03it/s]\n"
     ]
    },
    {
     "name": "stdout",
     "output_type": "stream",
     "text": [
      "Epoch [16/50]\n",
      "Training Loss: 0.4395\n",
      "Validation Loss: 0.4548\n",
      "Validation Accuracy: 77.62%\n",
      "Precision: 0.7321\n",
      "Recall: 0.7069\n",
      "F1 Score: 0.7193\n",
      "No improvement in validation loss for 1 epochs.\n"
     ]
    },
    {
     "name": "stderr",
     "output_type": "stream",
     "text": [
      "Epoch 17/50: 100%|██████████| 18/18 [00:00<00:00, 155.00it/s]\n"
     ]
    },
    {
     "name": "stdout",
     "output_type": "stream",
     "text": [
      "Epoch [17/50]\n",
      "Training Loss: 0.4385\n",
      "Validation Loss: 0.4534\n",
      "Validation Accuracy: 76.22%\n",
      "Precision: 0.7400\n",
      "Recall: 0.6379\n",
      "F1 Score: 0.6852\n",
      "Validation loss improved, model saved.\n"
     ]
    },
    {
     "name": "stderr",
     "output_type": "stream",
     "text": [
      "Epoch 18/50: 100%|██████████| 18/18 [00:00<00:00, 434.15it/s]\n"
     ]
    },
    {
     "name": "stdout",
     "output_type": "stream",
     "text": [
      "Epoch [18/50]\n",
      "Training Loss: 0.4348\n",
      "Validation Loss: 0.4538\n",
      "Validation Accuracy: 77.62%\n",
      "Precision: 0.7321\n",
      "Recall: 0.7069\n",
      "F1 Score: 0.7193\n",
      "No improvement in validation loss for 1 epochs.\n"
     ]
    },
    {
     "name": "stderr",
     "output_type": "stream",
     "text": [
      "Epoch 19/50: 100%|██████████| 18/18 [00:00<00:00, 499.38it/s]\n"
     ]
    },
    {
     "name": "stdout",
     "output_type": "stream",
     "text": [
      "Epoch [19/50]\n",
      "Training Loss: 0.4364\n",
      "Validation Loss: 0.4531\n",
      "Validation Accuracy: 77.62%\n",
      "Precision: 0.7321\n",
      "Recall: 0.7069\n",
      "F1 Score: 0.7193\n",
      "Validation loss improved, model saved.\n"
     ]
    },
    {
     "name": "stderr",
     "output_type": "stream",
     "text": [
      "Epoch 20/50: 100%|██████████| 18/18 [00:00<00:00, 378.42it/s]\n"
     ]
    },
    {
     "name": "stdout",
     "output_type": "stream",
     "text": [
      "Epoch [20/50]\n",
      "Training Loss: 0.4318\n",
      "Validation Loss: 0.4498\n",
      "Validation Accuracy: 76.92%\n",
      "Precision: 0.7358\n",
      "Recall: 0.6724\n",
      "F1 Score: 0.7027\n",
      "Validation loss improved, model saved.\n"
     ]
    },
    {
     "name": "stderr",
     "output_type": "stream",
     "text": [
      "Epoch 21/50: 100%|██████████| 18/18 [00:00<00:00, 609.83it/s]\n"
     ]
    },
    {
     "name": "stdout",
     "output_type": "stream",
     "text": [
      "Epoch [21/50]\n",
      "Training Loss: 0.4296\n",
      "Validation Loss: 0.4508\n",
      "Validation Accuracy: 77.62%\n",
      "Precision: 0.7321\n",
      "Recall: 0.7069\n",
      "F1 Score: 0.7193\n",
      "No improvement in validation loss for 1 epochs.\n"
     ]
    },
    {
     "name": "stderr",
     "output_type": "stream",
     "text": [
      "Epoch 22/50: 100%|██████████| 18/18 [00:00<00:00, 734.26it/s]\n"
     ]
    },
    {
     "name": "stdout",
     "output_type": "stream",
     "text": [
      "Epoch [22/50]\n",
      "Training Loss: 0.4288\n",
      "Validation Loss: 0.4515\n",
      "Validation Accuracy: 78.32%\n",
      "Precision: 0.7455\n",
      "Recall: 0.7069\n",
      "F1 Score: 0.7257\n",
      "No improvement in validation loss for 2 epochs.\n"
     ]
    },
    {
     "name": "stderr",
     "output_type": "stream",
     "text": [
      "Epoch 23/50: 100%|██████████| 18/18 [00:00<00:00, 521.19it/s]\n"
     ]
    },
    {
     "name": "stdout",
     "output_type": "stream",
     "text": [
      "Epoch [23/50]\n",
      "Training Loss: 0.4269\n",
      "Validation Loss: 0.4485\n",
      "Validation Accuracy: 78.32%\n",
      "Precision: 0.7547\n",
      "Recall: 0.6897\n",
      "F1 Score: 0.7207\n",
      "Validation loss improved, model saved.\n"
     ]
    },
    {
     "name": "stderr",
     "output_type": "stream",
     "text": [
      "Epoch 24/50: 100%|██████████| 18/18 [00:00<00:00, 422.68it/s]\n"
     ]
    },
    {
     "name": "stdout",
     "output_type": "stream",
     "text": [
      "Epoch [24/50]\n",
      "Training Loss: 0.4251\n",
      "Validation Loss: 0.4477\n",
      "Validation Accuracy: 76.22%\n",
      "Precision: 0.7609\n",
      "Recall: 0.6034\n",
      "F1 Score: 0.6731\n",
      "Validation loss improved, model saved.\n"
     ]
    },
    {
     "name": "stderr",
     "output_type": "stream",
     "text": [
      "Epoch 25/50: 100%|██████████| 18/18 [00:00<00:00, 473.17it/s]\n"
     ]
    },
    {
     "name": "stdout",
     "output_type": "stream",
     "text": [
      "Epoch [25/50]\n",
      "Training Loss: 0.4252\n",
      "Validation Loss: 0.4472\n",
      "Validation Accuracy: 77.62%\n",
      "Precision: 0.7500\n",
      "Recall: 0.6724\n",
      "F1 Score: 0.7091\n",
      "Validation loss improved, model saved.\n"
     ]
    },
    {
     "name": "stderr",
     "output_type": "stream",
     "text": [
      "Epoch 26/50: 100%|██████████| 18/18 [00:00<00:00, 491.78it/s]\n"
     ]
    },
    {
     "name": "stdout",
     "output_type": "stream",
     "text": [
      "Epoch [26/50]\n",
      "Training Loss: 0.4219\n",
      "Validation Loss: 0.4458\n",
      "Validation Accuracy: 77.62%\n",
      "Precision: 0.7708\n",
      "Recall: 0.6379\n",
      "F1 Score: 0.6981\n",
      "Validation loss improved, model saved.\n"
     ]
    },
    {
     "name": "stderr",
     "output_type": "stream",
     "text": [
      "Epoch 27/50: 100%|██████████| 18/18 [00:00<00:00, 486.26it/s]\n"
     ]
    },
    {
     "name": "stdout",
     "output_type": "stream",
     "text": [
      "Epoch [27/50]\n",
      "Training Loss: 0.4234\n",
      "Validation Loss: 0.4478\n",
      "Validation Accuracy: 77.62%\n",
      "Precision: 0.7600\n",
      "Recall: 0.6552\n",
      "F1 Score: 0.7037\n",
      "No improvement in validation loss for 1 epochs.\n"
     ]
    },
    {
     "name": "stderr",
     "output_type": "stream",
     "text": [
      "Epoch 28/50: 100%|██████████| 18/18 [00:00<00:00, 457.19it/s]\n"
     ]
    },
    {
     "name": "stdout",
     "output_type": "stream",
     "text": [
      "Epoch [28/50]\n",
      "Training Loss: 0.4185\n",
      "Validation Loss: 0.4473\n",
      "Validation Accuracy: 77.62%\n",
      "Precision: 0.7500\n",
      "Recall: 0.6724\n",
      "F1 Score: 0.7091\n",
      "No improvement in validation loss for 2 epochs.\n"
     ]
    },
    {
     "name": "stderr",
     "output_type": "stream",
     "text": [
      "Epoch 29/50: 100%|██████████| 18/18 [00:00<00:00, 292.88it/s]\n"
     ]
    },
    {
     "name": "stdout",
     "output_type": "stream",
     "text": [
      "Epoch [29/50]\n",
      "Training Loss: 0.4189\n",
      "Validation Loss: 0.4446\n",
      "Validation Accuracy: 76.92%\n",
      "Precision: 0.7778\n",
      "Recall: 0.6034\n",
      "F1 Score: 0.6796\n",
      "Validation loss improved, model saved.\n"
     ]
    },
    {
     "name": "stderr",
     "output_type": "stream",
     "text": [
      "Epoch 30/50: 100%|██████████| 18/18 [00:00<00:00, 350.37it/s]"
     ]
    },
    {
     "name": "stdout",
     "output_type": "stream",
     "text": [
      "Epoch [30/50]"
     ]
    },
    {
     "name": "stderr",
     "output_type": "stream",
     "text": [
      "\n"
     ]
    },
    {
     "name": "stdout",
     "output_type": "stream",
     "text": [
      "\n",
      "Training Loss: 0.4171\n",
      "Validation Loss: 0.4482\n",
      "Validation Accuracy: 78.32%\n",
      "Precision: 0.7455\n",
      "Recall: 0.7069\n",
      "F1 Score: 0.7257\n",
      "No improvement in validation loss for 1 epochs.\n"
     ]
    },
    {
     "name": "stderr",
     "output_type": "stream",
     "text": [
      "Epoch 31/50: 100%|██████████| 18/18 [00:00<00:00, 438.49it/s]\n"
     ]
    },
    {
     "name": "stdout",
     "output_type": "stream",
     "text": [
      "Epoch [31/50]\n",
      "Training Loss: 0.4149\n",
      "Validation Loss: 0.4453\n",
      "Validation Accuracy: 78.32%\n",
      "Precision: 0.7755\n",
      "Recall: 0.6552\n",
      "F1 Score: 0.7103\n",
      "No improvement in validation loss for 2 epochs.\n"
     ]
    },
    {
     "name": "stderr",
     "output_type": "stream",
     "text": [
      "Epoch 32/50: 100%|██████████| 18/18 [00:00<00:00, 466.16it/s]\n"
     ]
    },
    {
     "name": "stdout",
     "output_type": "stream",
     "text": [
      "Epoch [32/50]\n",
      "Training Loss: 0.4160\n",
      "Validation Loss: 0.4452\n",
      "Validation Accuracy: 77.62%\n",
      "Precision: 0.7826\n",
      "Recall: 0.6207\n",
      "F1 Score: 0.6923\n",
      "No improvement in validation loss for 3 epochs.\n"
     ]
    },
    {
     "name": "stderr",
     "output_type": "stream",
     "text": [
      "Epoch 33/50: 100%|██████████| 18/18 [00:00<00:00, 368.59it/s]\n"
     ]
    },
    {
     "name": "stdout",
     "output_type": "stream",
     "text": [
      "Epoch [33/50]\n",
      "Training Loss: 0.4126\n",
      "Validation Loss: 0.4444\n",
      "Validation Accuracy: 77.62%\n",
      "Precision: 0.7600\n",
      "Recall: 0.6552\n",
      "F1 Score: 0.7037\n",
      "Validation loss improved, model saved.\n"
     ]
    },
    {
     "name": "stderr",
     "output_type": "stream",
     "text": [
      "Epoch 34/50: 100%|██████████| 18/18 [00:00<00:00, 536.92it/s]\n"
     ]
    },
    {
     "name": "stdout",
     "output_type": "stream",
     "text": [
      "Epoch [34/50]\n",
      "Training Loss: 0.4136\n",
      "Validation Loss: 0.4426\n",
      "Validation Accuracy: 77.62%\n",
      "Precision: 0.7955\n",
      "Recall: 0.6034\n",
      "F1 Score: 0.6863\n",
      "Validation loss improved, model saved.\n"
     ]
    },
    {
     "name": "stderr",
     "output_type": "stream",
     "text": [
      "Epoch 35/50: 100%|██████████| 18/18 [00:00<00:00, 398.97it/s]\n"
     ]
    },
    {
     "name": "stdout",
     "output_type": "stream",
     "text": [
      "Epoch [35/50]\n",
      "Training Loss: 0.4139\n",
      "Validation Loss: 0.4436\n",
      "Validation Accuracy: 77.62%\n",
      "Precision: 0.7708\n",
      "Recall: 0.6379\n",
      "F1 Score: 0.6981\n",
      "No improvement in validation loss for 1 epochs.\n"
     ]
    },
    {
     "name": "stderr",
     "output_type": "stream",
     "text": [
      "Epoch 36/50: 100%|██████████| 18/18 [00:00<00:00, 516.54it/s]\n"
     ]
    },
    {
     "name": "stdout",
     "output_type": "stream",
     "text": [
      "Epoch [36/50]\n",
      "Training Loss: 0.4120\n",
      "Validation Loss: 0.4424\n",
      "Validation Accuracy: 77.62%\n",
      "Precision: 0.8095\n",
      "Recall: 0.5862\n",
      "F1 Score: 0.6800\n",
      "Validation loss improved, model saved.\n"
     ]
    },
    {
     "name": "stderr",
     "output_type": "stream",
     "text": [
      "Epoch 37/50: 100%|██████████| 18/18 [00:00<00:00, 703.79it/s]\n"
     ]
    },
    {
     "name": "stdout",
     "output_type": "stream",
     "text": [
      "Epoch [37/50]\n",
      "Training Loss: 0.4106\n",
      "Validation Loss: 0.4426\n",
      "Validation Accuracy: 77.62%\n",
      "Precision: 0.7708\n",
      "Recall: 0.6379\n",
      "F1 Score: 0.6981\n",
      "No improvement in validation loss for 1 epochs.\n"
     ]
    },
    {
     "name": "stderr",
     "output_type": "stream",
     "text": [
      "Epoch 38/50: 100%|██████████| 18/18 [00:00<00:00, 589.83it/s]\n"
     ]
    },
    {
     "name": "stdout",
     "output_type": "stream",
     "text": [
      "Epoch [38/50]\n",
      "Training Loss: 0.4109\n",
      "Validation Loss: 0.4425\n",
      "Validation Accuracy: 78.32%\n",
      "Precision: 0.8140\n",
      "Recall: 0.6034\n",
      "F1 Score: 0.6931\n",
      "No improvement in validation loss for 2 epochs.\n"
     ]
    },
    {
     "name": "stderr",
     "output_type": "stream",
     "text": [
      "Epoch 39/50: 100%|██████████| 18/18 [00:00<00:00, 390.79it/s]\n"
     ]
    },
    {
     "name": "stdout",
     "output_type": "stream",
     "text": [
      "Epoch [39/50]\n",
      "Training Loss: 0.4104\n",
      "Validation Loss: 0.4406\n",
      "Validation Accuracy: 78.32%\n",
      "Precision: 0.8140\n",
      "Recall: 0.6034\n",
      "F1 Score: 0.6931\n",
      "Validation loss improved, model saved.\n"
     ]
    },
    {
     "name": "stderr",
     "output_type": "stream",
     "text": [
      "Epoch 40/50: 100%|██████████| 18/18 [00:00<00:00, 449.49it/s]\n"
     ]
    },
    {
     "name": "stdout",
     "output_type": "stream",
     "text": [
      "Epoch [40/50]\n",
      "Training Loss: 0.4090\n",
      "Validation Loss: 0.4424\n",
      "Validation Accuracy: 77.62%\n",
      "Precision: 0.7826\n",
      "Recall: 0.6207\n",
      "F1 Score: 0.6923\n",
      "No improvement in validation loss for 1 epochs.\n"
     ]
    },
    {
     "name": "stderr",
     "output_type": "stream",
     "text": [
      "Epoch 41/50: 100%|██████████| 18/18 [00:00<00:00, 408.66it/s]\n"
     ]
    },
    {
     "name": "stdout",
     "output_type": "stream",
     "text": [
      "Epoch [41/50]\n",
      "Training Loss: 0.4117\n",
      "Validation Loss: 0.4417\n",
      "Validation Accuracy: 78.32%\n",
      "Precision: 0.8140\n",
      "Recall: 0.6034\n",
      "F1 Score: 0.6931\n",
      "No improvement in validation loss for 2 epochs.\n"
     ]
    },
    {
     "name": "stderr",
     "output_type": "stream",
     "text": [
      "Epoch 42/50: 100%|██████████| 18/18 [00:00<00:00, 342.43it/s]\n"
     ]
    },
    {
     "name": "stdout",
     "output_type": "stream",
     "text": [
      "Epoch [42/50]\n",
      "Training Loss: 0.4077\n",
      "Validation Loss: 0.4424\n",
      "Validation Accuracy: 76.92%\n",
      "Precision: 0.7551\n",
      "Recall: 0.6379\n",
      "F1 Score: 0.6916\n",
      "No improvement in validation loss for 3 epochs.\n"
     ]
    },
    {
     "name": "stderr",
     "output_type": "stream",
     "text": [
      "Epoch 43/50: 100%|██████████| 18/18 [00:00<00:00, 422.78it/s]\n"
     ]
    },
    {
     "name": "stdout",
     "output_type": "stream",
     "text": [
      "Epoch [43/50]\n",
      "Training Loss: 0.4081\n",
      "Validation Loss: 0.4417\n",
      "Validation Accuracy: 78.32%\n",
      "Precision: 0.8140\n",
      "Recall: 0.6034\n",
      "F1 Score: 0.6931\n",
      "No improvement in validation loss for 4 epochs.\n"
     ]
    },
    {
     "name": "stderr",
     "output_type": "stream",
     "text": [
      "Epoch 44/50: 100%|██████████| 18/18 [00:00<00:00, 618.15it/s]\n"
     ]
    },
    {
     "name": "stdout",
     "output_type": "stream",
     "text": [
      "Epoch [44/50]\n",
      "Training Loss: 0.4067\n",
      "Validation Loss: 0.4405\n",
      "Validation Accuracy: 78.32%\n",
      "Precision: 0.8140\n",
      "Recall: 0.6034\n",
      "F1 Score: 0.6931\n",
      "Validation loss improved, model saved.\n"
     ]
    },
    {
     "name": "stderr",
     "output_type": "stream",
     "text": [
      "Epoch 45/50: 100%|██████████| 18/18 [00:00<00:00, 461.19it/s]\n"
     ]
    },
    {
     "name": "stdout",
     "output_type": "stream",
     "text": [
      "Epoch [45/50]\n",
      "Training Loss: 0.4085\n",
      "Validation Loss: 0.4385\n",
      "Validation Accuracy: 78.32%\n",
      "Precision: 0.8293\n",
      "Recall: 0.5862\n",
      "F1 Score: 0.6869\n",
      "Validation loss improved, model saved.\n"
     ]
    },
    {
     "name": "stderr",
     "output_type": "stream",
     "text": [
      "Epoch 46/50: 100%|██████████| 18/18 [00:00<00:00, 418.19it/s]\n"
     ]
    },
    {
     "name": "stdout",
     "output_type": "stream",
     "text": [
      "Epoch [46/50]\n",
      "Training Loss: 0.4069\n",
      "Validation Loss: 0.4429\n",
      "Validation Accuracy: 77.62%\n",
      "Precision: 0.7826\n",
      "Recall: 0.6207\n",
      "F1 Score: 0.6923\n",
      "No improvement in validation loss for 1 epochs.\n"
     ]
    },
    {
     "name": "stderr",
     "output_type": "stream",
     "text": [
      "Epoch 47/50: 100%|██████████| 18/18 [00:00<00:00, 448.42it/s]\n"
     ]
    },
    {
     "name": "stdout",
     "output_type": "stream",
     "text": [
      "Epoch [47/50]\n",
      "Training Loss: 0.4072\n",
      "Validation Loss: 0.4393\n",
      "Validation Accuracy: 79.02%\n",
      "Precision: 0.8333\n",
      "Recall: 0.6034\n",
      "F1 Score: 0.7000\n",
      "No improvement in validation loss for 2 epochs.\n"
     ]
    },
    {
     "name": "stderr",
     "output_type": "stream",
     "text": [
      "Epoch 48/50: 100%|██████████| 18/18 [00:00<00:00, 449.55it/s]\n"
     ]
    },
    {
     "name": "stdout",
     "output_type": "stream",
     "text": [
      "Epoch [48/50]\n",
      "Training Loss: 0.4040\n",
      "Validation Loss: 0.4409\n",
      "Validation Accuracy: 79.02%\n",
      "Precision: 0.8182\n",
      "Recall: 0.6207\n",
      "F1 Score: 0.7059\n",
      "No improvement in validation loss for 3 epochs.\n"
     ]
    },
    {
     "name": "stderr",
     "output_type": "stream",
     "text": [
      "Epoch 49/50: 100%|██████████| 18/18 [00:00<00:00, 570.59it/s]\n"
     ]
    },
    {
     "name": "stdout",
     "output_type": "stream",
     "text": [
      "Epoch [49/50]\n",
      "Training Loss: 0.4062\n",
      "Validation Loss: 0.4378\n",
      "Validation Accuracy: 77.62%\n",
      "Precision: 0.8095\n",
      "Recall: 0.5862\n",
      "F1 Score: 0.6800\n",
      "Validation loss improved, model saved.\n"
     ]
    },
    {
     "name": "stderr",
     "output_type": "stream",
     "text": [
      "Epoch 50/50: 100%|██████████| 18/18 [00:00<00:00, 388.32it/s]"
     ]
    },
    {
     "name": "stdout",
     "output_type": "stream",
     "text": [
      "Epoch [50/50]\n",
      "Training Loss: 0.4036\n",
      "Validation Loss: 0.4390\n",
      "Validation Accuracy: 79.02%\n",
      "Precision: 0.8182\n",
      "Recall: 0.6207\n",
      "F1 Score: 0.7059\n",
      "No improvement in validation loss for 1 epochs.\n"
     ]
    },
    {
     "name": "stderr",
     "output_type": "stream",
     "text": [
      "\n"
     ]
    },
    {
     "name": "stdout",
     "output_type": "stream",
     "text": [
      "Validation Loss: 0.4378, Accuracy: 77.62%\n",
      "Final Validation Loss: 0.4378, Accuracy: 77.62%\n"
     ]
    }
   ],
   "source": [
    "\n",
    "# Instantiate the SimpleMLP model without an activation function in the last layer\n",
    "cross_entropy_model = SimpleMLP(\n",
    "    input_dim=input_size,\n",
    "    hidden_dim=hidden_size,\n",
    "    output_dim=output_size,\n",
    "    num_hidden_layers=num_hidden_layers,\n",
    "    last_layer_activation_fn=None  # No activation function in the last layer for CrossEntropyLoss\n",
    ")\n",
    "\n",
    "# Define the loss function using CrossEntropyLoss\n",
    "cross_entropy_loss_fn = nn.CrossEntropyLoss()\n",
    "\n",
    "# Define the optimizer (Adam optimizer with a learning rate of 0.001)\n",
    "cross_entropy_optimizer = torch.optim.Adam(cross_entropy_model.parameters(), lr=0.001)\n",
    "\n",
    "# Instantiate the SimpleMLPTrainer with the model, loss function, and optimizer\n",
    "cross_entropy_trainer = SimpleMLPTrainer(\n",
    "    model=cross_entropy_model,\n",
    "    criterion=cross_entropy_loss_fn,\n",
    "    optimizer=cross_entropy_optimizer\n",
    ")\n",
    "\n",
    "# Implement early stopping parameters\n",
    "best_val_loss = float('inf')\n",
    "early_stopping_patience = 5\n",
    "epochs_without_improvement = 0\n",
    "\n",
    "# Lists to store training and validation metrics\n",
    "train_losses = []\n",
    "val_losses = []\n",
    "val_accuracies = []\n",
    "val_precisions = []\n",
    "val_recalls = []\n",
    "val_f1_scores = []\n",
    "\n",
    "# Training loop with early stopping and metric tracking\n",
    "for epoch in range(num_epochs):\n",
    "    # Training phase\n",
    "    cross_entropy_model.train()\n",
    "    running_loss = 0.0\n",
    "    for batch_inputs, batch_labels in tqdm(\n",
    "        train_dataloader, desc=f\"Epoch {epoch+1}/{num_epochs}\"\n",
    "    ):\n",
    "        cross_entropy_optimizer.zero_grad()\n",
    "        outputs = cross_entropy_model(batch_inputs)\n",
    "        loss = cross_entropy_loss_fn(outputs, batch_labels)\n",
    "        loss.backward()\n",
    "        cross_entropy_optimizer.step()\n",
    "        running_loss += loss.item()\n",
    "    avg_train_loss = running_loss / len(train_dataloader)\n",
    "    train_losses.append(avg_train_loss)\n",
    "    \n",
    "    # Validation phase\n",
    "    cross_entropy_model.eval()\n",
    "    val_loss = 0.0\n",
    "    all_labels = []\n",
    "    all_predictions = []\n",
    "    with torch.no_grad():\n",
    "        for batch_inputs, batch_labels in val_dataloader:\n",
    "            outputs = cross_entropy_model(batch_inputs)\n",
    "            loss = cross_entropy_loss_fn(outputs, batch_labels)\n",
    "            val_loss += loss.item()\n",
    "            \n",
    "            # Get predicted class labels\n",
    "            _, predicted_classes = torch.max(outputs, 1)\n",
    "            all_predictions.extend(predicted_classes.cpu().numpy())\n",
    "            all_labels.extend(batch_labels.cpu().numpy())\n",
    "    avg_val_loss = val_loss / len(val_dataloader)\n",
    "    val_losses.append(avg_val_loss)\n",
    "    \n",
    "    # Calculate validation metrics\n",
    "    accuracy = (np.array(all_predictions) == np.array(all_labels)).mean() * 100\n",
    "    precision = precision_score(all_labels, all_predictions, zero_division=0)\n",
    "    recall = recall_score(all_labels, all_predictions, zero_division=0)\n",
    "    f1 = f1_score(all_labels, all_predictions, zero_division=0)\n",
    "    val_accuracies.append(accuracy)\n",
    "    val_precisions.append(precision)\n",
    "    val_recalls.append(recall)\n",
    "    val_f1_scores.append(f1)\n",
    "    \n",
    "    # Print epoch metrics\n",
    "    print(f\"Epoch [{epoch+1}/{num_epochs}]\")\n",
    "    print(f\"Training Loss: {avg_train_loss:.4f}\")\n",
    "    print(f\"Validation Loss: {avg_val_loss:.4f}\")\n",
    "    print(f\"Validation Accuracy: {accuracy:.2f}%\")\n",
    "    print(f\"Precision: {precision:.4f}\")\n",
    "    print(f\"Recall: {recall:.4f}\")\n",
    "    print(f\"F1 Score: {f1:.4f}\")\n",
    "    \n",
    "    # Check for improvement\n",
    "    if avg_val_loss < best_val_loss:\n",
    "        best_val_loss = avg_val_loss\n",
    "        epochs_without_improvement = 0\n",
    "        # Save the best model\n",
    "        torch.save(cross_entropy_model.state_dict(), 'best_cross_entropy_model.pth')\n",
    "        print(\"Validation loss improved, model saved.\")\n",
    "    else:\n",
    "        epochs_without_improvement += 1\n",
    "        print(f\"No improvement in validation loss for {epochs_without_improvement} epochs.\")\n",
    "    \n",
    "    # Early stopping\n",
    "    if epochs_without_improvement >= early_stopping_patience:\n",
    "        print(\"Early stopping triggered.\")\n",
    "        break\n",
    "\n",
    "# Load the best model before evaluation\n",
    "cross_entropy_model.load_state_dict(torch.load('best_cross_entropy_model.pth'))\n",
    "\n",
    "# Evaluate the model on the validation set\n",
    "final_val_loss, final_val_accuracy = cross_entropy_trainer.evaluate(val_dataloader)\n",
    "print(f\"Final Validation Loss: {final_val_loss:.4f}, Accuracy: {final_val_accuracy:.2f}%\")\n",
    "\n",
    "# # Plot training and validation losses\n",
    "# plt.figure(figsize=(10, 5))\n",
    "# plt.plot(range(1, len(train_losses)+1), train_losses, label='Training Loss')\n",
    "# plt.plot(range(1, len(val_losses)+1), val_losses, label='Validation Loss')\n",
    "# plt.xlabel('Epoch')\n",
    "# plt.ylabel('Loss')\n",
    "# plt.title('Training and Validation Loss over Epochs (CrossEntropyLoss)')\n",
    "# plt.legend()\n",
    "# plt.show()\n",
    "\n",
    "# # Plot validation accuracy, precision, recall, and F1 score\n",
    "# plt.figure(figsize=(10, 5))\n",
    "# plt.plot(range(1, len(val_accuracies)+1), val_accuracies, label='Accuracy')\n",
    "# plt.plot(range(1, len(val_precisions)+1), val_precisions, label='Precision')\n",
    "# plt.plot(range(1, len(val_recalls)+1), val_recalls, label='Recall')\n",
    "# plt.plot(range(1, len(val_f1_scores)+1), val_f1_scores, label='F1 Score')\n",
    "# plt.xlabel('Epoch')\n",
    "# plt.ylabel('Metric')\n",
    "# plt.title('Validation Metrics over Epochs (CrossEntropyLoss)')\n",
    "# plt.legend()\n",
    "# plt.show()\n"
   ]
  },
  {
   "cell_type": "markdown",
   "metadata": {},
   "source": [
    "\n",
    "### 5. KLDivLoss (`torch.nn.KLDivLoss`)\n",
    "- **Description:** Kullback-Leibler Divergence Loss measures how one probability distribution diverges from a second, reference distribution. Unlike other loss functions that focus on classification, KL divergence specifically compares the relative entropy between two distributions. It quantifies the information loss when using the predicted distribution to approximate the true distribution. \n",
    "\n",
    "- **Mathematical Function:**\n",
    "\\begin{equation}\n",
    "  \\text{KL}(P \\parallel Q) = \\sum_{i=1}^{C} P(i) \\left( \\log P(i) - \\log Q(i) \\right)\n",
    "\\end{equation}\n",
    "  where:\n",
    "  - \\( P \\) is the target (true) probability distribution,\n",
    "  - \\( Q \\) is the predicted distribution (often the output of `log_softmax`),\n",
    "  - \\( C \\) is the number of classes.\n",
    "\n",
    "  KL divergence is always non-negative, and it equals zero if the two distributions are identical. The loss function expects the model's output to be in the form of log-probabilities (using `log_softmax`) and compares this against a target probability distribution, which is typically a normalized distribution (using softmax).\n",
    "\n",
    "- **Use Case:** KLDivLoss is frequently used in:\n",
    "  - **Variational Autoencoders (VAEs):** In VAEs, KL divergence is used to measure how much the learned latent space distribution deviates from a prior distribution (often Gaussian).\n",
    "  - **Knowledge Distillation:** In teacher-student models, KL divergence is used to transfer the \"soft\" knowledge from a teacher model to a student model by comparing their output probability distributions.\n",
    "  - **Reinforcement Learning:** It can be used to update policies while minimizing the divergence from a previous policy.\n",
    "\n",
    "- **Background:** Kullback-Leibler divergence, a core concept in information theory, measures the inefficiency of assuming the predicted distribution \\( Q \\) when the true distribution is \\( P \\). It is asymmetric, meaning that \\( KL(P \\parallel Q) \\neq KL(Q \\parallel P) \\), so the direction of the comparison matters.\n",
    "\n",
    "Again, in this part, run your training with Relu at last layer. <span style=\"color:red; font-weight: bold;\">Discuss </span> and explain the difference between the results of the two models. Find a proper solution to the problem.\n"
   ]
  },
  {
   "cell_type": "code",
   "execution_count": null,
   "metadata": {},
   "outputs": [
    {
     "name": "stderr",
     "output_type": "stream",
     "text": [
      "c:\\Users\\user\\AppData\\Local\\Programs\\Python\\Python312\\Lib\\site-packages\\urllib3\\connectionpool.py:1095: InsecureRequestWarning: Unverified HTTPS request is being made to host 'raw.githubusercontent.com'. Adding certificate verification is strongly advised. See: https://urllib3.readthedocs.io/en/latest/advanced-usage.html#tls-warnings\n",
      "  warnings.warn(\n",
      "Epoch 1/20: 100%|██████████| 18/18 [00:00<00:00, 521.11it/s]\n"
     ]
    },
    {
     "name": "stdout",
     "output_type": "stream",
     "text": [
      "Epoch [1/20], Loss: -0.4867\n",
      "Validation Loss: -0.5903, Accuracy: 34.27%\n"
     ]
    },
    {
     "name": "stderr",
     "output_type": "stream",
     "text": [
      "Epoch 2/20: 100%|██████████| 18/18 [00:00<00:00, 551.73it/s]\n"
     ]
    },
    {
     "name": "stdout",
     "output_type": "stream",
     "text": [
      "Epoch [2/20], Loss: -0.9431\n",
      "Validation Loss: -1.0901, Accuracy: 35.66%\n"
     ]
    },
    {
     "name": "stderr",
     "output_type": "stream",
     "text": [
      "Epoch 3/20: 100%|██████████| 18/18 [00:00<00:00, 392.79it/s]\n"
     ]
    },
    {
     "name": "stdout",
     "output_type": "stream",
     "text": [
      "Epoch [3/20], Loss: -1.5156\n",
      "Validation Loss: -1.6582, Accuracy: 55.24%\n"
     ]
    },
    {
     "name": "stderr",
     "output_type": "stream",
     "text": [
      "Epoch 4/20: 100%|██████████| 18/18 [00:00<00:00, 328.76it/s]\n"
     ]
    },
    {
     "name": "stdout",
     "output_type": "stream",
     "text": [
      "Epoch [4/20], Loss: -2.1626\n",
      "Validation Loss: -2.3034, Accuracy: 61.54%\n"
     ]
    },
    {
     "name": "stderr",
     "output_type": "stream",
     "text": [
      "Epoch 5/20: 100%|██████████| 18/18 [00:00<00:00, 613.24it/s]\n"
     ]
    },
    {
     "name": "stdout",
     "output_type": "stream",
     "text": [
      "Epoch [5/20], Loss: -2.9061\n",
      "Validation Loss: -3.1104, Accuracy: 64.34%\n"
     ]
    },
    {
     "name": "stderr",
     "output_type": "stream",
     "text": [
      "Epoch 6/20: 100%|██████████| 18/18 [00:00<00:00, 491.50it/s]\n"
     ]
    },
    {
     "name": "stdout",
     "output_type": "stream",
     "text": [
      "Epoch [6/20], Loss: -3.8187\n",
      "Validation Loss: -4.0886, Accuracy: 65.73%\n"
     ]
    },
    {
     "name": "stderr",
     "output_type": "stream",
     "text": [
      "Epoch 7/20: 100%|██████████| 18/18 [00:00<00:00, 464.76it/s]\n"
     ]
    },
    {
     "name": "stdout",
     "output_type": "stream",
     "text": [
      "Epoch [7/20], Loss: -4.9138\n",
      "Validation Loss: -5.2877, Accuracy: 65.73%\n"
     ]
    },
    {
     "name": "stderr",
     "output_type": "stream",
     "text": [
      "Epoch 8/20: 100%|██████████| 18/18 [00:00<00:00, 548.68it/s]\n"
     ]
    },
    {
     "name": "stdout",
     "output_type": "stream",
     "text": [
      "Epoch [8/20], Loss: -6.2926\n",
      "Validation Loss: -6.7117, Accuracy: 66.43%\n"
     ]
    },
    {
     "name": "stderr",
     "output_type": "stream",
     "text": [
      "Epoch 9/20: 100%|██████████| 18/18 [00:00<00:00, 502.96it/s]\n"
     ]
    },
    {
     "name": "stdout",
     "output_type": "stream",
     "text": [
      "Epoch [9/20], Loss: -7.8670\n",
      "Validation Loss: -8.4641, Accuracy: 66.43%\n"
     ]
    },
    {
     "name": "stderr",
     "output_type": "stream",
     "text": [
      "Epoch 10/20: 100%|██████████| 18/18 [00:00<00:00, 813.20it/s]\n"
     ]
    },
    {
     "name": "stdout",
     "output_type": "stream",
     "text": [
      "Epoch [10/20], Loss: -9.7904\n",
      "Validation Loss: -10.5272, Accuracy: 68.53%\n"
     ]
    },
    {
     "name": "stderr",
     "output_type": "stream",
     "text": [
      "Epoch 11/20: 100%|██████████| 18/18 [00:00<00:00, 467.77it/s]\n"
     ]
    },
    {
     "name": "stdout",
     "output_type": "stream",
     "text": [
      "Epoch [11/20], Loss: -12.0980\n",
      "Validation Loss: -12.9853, Accuracy: 69.93%\n"
     ]
    },
    {
     "name": "stderr",
     "output_type": "stream",
     "text": [
      "Epoch 12/20: 100%|██████████| 18/18 [00:00<00:00, 449.57it/s]\n"
     ]
    },
    {
     "name": "stdout",
     "output_type": "stream",
     "text": [
      "Epoch [12/20], Loss: -14.8045\n",
      "Validation Loss: -15.9412, Accuracy: 69.23%\n"
     ]
    },
    {
     "name": "stderr",
     "output_type": "stream",
     "text": [
      "Epoch 13/20: 100%|██████████| 18/18 [00:00<00:00, 443.20it/s]\n"
     ]
    },
    {
     "name": "stdout",
     "output_type": "stream",
     "text": [
      "Epoch [13/20], Loss: -18.1080\n",
      "Validation Loss: -19.5862, Accuracy: 69.23%\n"
     ]
    },
    {
     "name": "stderr",
     "output_type": "stream",
     "text": [
      "Epoch 14/20: 100%|██████████| 18/18 [00:00<00:00, 678.29it/s]\n"
     ]
    },
    {
     "name": "stdout",
     "output_type": "stream",
     "text": [
      "Epoch [14/20], Loss: -22.1048\n",
      "Validation Loss: -23.9907, Accuracy: 69.23%\n"
     ]
    },
    {
     "name": "stderr",
     "output_type": "stream",
     "text": [
      "Epoch 15/20: 100%|██████████| 18/18 [00:00<00:00, 484.29it/s]\n"
     ]
    },
    {
     "name": "stdout",
     "output_type": "stream",
     "text": [
      "Epoch [15/20], Loss: -26.9188\n",
      "Validation Loss: -29.3007, Accuracy: 68.53%\n"
     ]
    },
    {
     "name": "stderr",
     "output_type": "stream",
     "text": [
      "Epoch 16/20: 100%|██████████| 18/18 [00:00<00:00, 477.61it/s]\n"
     ]
    },
    {
     "name": "stdout",
     "output_type": "stream",
     "text": [
      "Epoch [16/20], Loss: -32.6598\n",
      "Validation Loss: -35.6355, Accuracy: 68.53%\n"
     ]
    },
    {
     "name": "stderr",
     "output_type": "stream",
     "text": [
      "Epoch 17/20: 100%|██████████| 18/18 [00:00<00:00, 517.53it/s]\n"
     ]
    },
    {
     "name": "stdout",
     "output_type": "stream",
     "text": [
      "Epoch [17/20], Loss: -39.4853\n",
      "Validation Loss: -43.1792, Accuracy: 68.53%\n"
     ]
    },
    {
     "name": "stderr",
     "output_type": "stream",
     "text": [
      "Epoch 18/20: 100%|██████████| 18/18 [00:00<00:00, 756.48it/s]\n"
     ]
    },
    {
     "name": "stdout",
     "output_type": "stream",
     "text": [
      "Epoch [18/20], Loss: -47.4719\n",
      "Validation Loss: -52.0624, Accuracy: 69.93%\n"
     ]
    },
    {
     "name": "stderr",
     "output_type": "stream",
     "text": [
      "Epoch 19/20: 100%|██████████| 18/18 [00:00<00:00, 545.62it/s]\n"
     ]
    },
    {
     "name": "stdout",
     "output_type": "stream",
     "text": [
      "Epoch [19/20], Loss: -56.8270\n",
      "Validation Loss: -62.5149, Accuracy: 71.33%\n"
     ]
    },
    {
     "name": "stderr",
     "output_type": "stream",
     "text": [
      "Epoch 20/20: 100%|██████████| 18/18 [00:00<00:00, 518.43it/s]\n"
     ]
    },
    {
     "name": "stdout",
     "output_type": "stream",
     "text": [
      "Epoch [20/20], Loss: -68.0734\n",
      "Validation Loss: -74.4711, Accuracy: 72.73%\n",
      "Evaluation with ReLU activation:\n",
      "Validation Loss: -74.4711, Accuracy: 72.73%\n"
     ]
    },
    {
     "name": "stderr",
     "output_type": "stream",
     "text": [
      "Epoch 1/20: 100%|██████████| 18/18 [00:00<00:00, 647.65it/s]\n"
     ]
    },
    {
     "name": "stdout",
     "output_type": "stream",
     "text": [
      "Epoch [1/20], Loss: 0.5994\n",
      "Validation Loss: 0.5695, Accuracy: 72.03%\n"
     ]
    },
    {
     "name": "stderr",
     "output_type": "stream",
     "text": [
      "Epoch 2/20: 100%|██████████| 18/18 [00:00<00:00, 501.60it/s]\n"
     ]
    },
    {
     "name": "stdout",
     "output_type": "stream",
     "text": [
      "Epoch [2/20], Loss: 0.5438\n",
      "Validation Loss: 0.5608, Accuracy: 73.43%\n"
     ]
    },
    {
     "name": "stderr",
     "output_type": "stream",
     "text": [
      "Epoch 3/20: 100%|██████████| 18/18 [00:00<00:00, 645.95it/s]\n"
     ]
    },
    {
     "name": "stdout",
     "output_type": "stream",
     "text": [
      "Epoch [3/20], Loss: 0.5163\n",
      "Validation Loss: 0.5502, Accuracy: 75.52%\n"
     ]
    },
    {
     "name": "stderr",
     "output_type": "stream",
     "text": [
      "Epoch 4/20: 100%|██████████| 18/18 [00:00<00:00, 443.05it/s]\n"
     ]
    },
    {
     "name": "stdout",
     "output_type": "stream",
     "text": [
      "Epoch [4/20], Loss: 0.4986\n",
      "Validation Loss: 0.5439, Accuracy: 76.22%\n"
     ]
    },
    {
     "name": "stderr",
     "output_type": "stream",
     "text": [
      "Epoch 5/20: 100%|██████████| 18/18 [00:00<00:00, 178.56it/s]\n"
     ]
    },
    {
     "name": "stdout",
     "output_type": "stream",
     "text": [
      "Epoch [5/20], Loss: 0.4878\n",
      "Validation Loss: 0.5338, Accuracy: 76.22%\n"
     ]
    },
    {
     "name": "stderr",
     "output_type": "stream",
     "text": [
      "Epoch 6/20: 100%|██████████| 18/18 [00:00<00:00, 346.03it/s]\n"
     ]
    },
    {
     "name": "stdout",
     "output_type": "stream",
     "text": [
      "Epoch [6/20], Loss: 0.4797\n",
      "Validation Loss: 0.5286, Accuracy: 76.22%\n"
     ]
    },
    {
     "name": "stderr",
     "output_type": "stream",
     "text": [
      "Epoch 7/20: 100%|██████████| 18/18 [00:00<00:00, 504.09it/s]\n"
     ]
    },
    {
     "name": "stdout",
     "output_type": "stream",
     "text": [
      "Epoch [7/20], Loss: 0.4709\n",
      "Validation Loss: 0.5173, Accuracy: 76.22%\n"
     ]
    },
    {
     "name": "stderr",
     "output_type": "stream",
     "text": [
      "Epoch 8/20: 100%|██████████| 18/18 [00:00<00:00, 501.08it/s]\n"
     ]
    },
    {
     "name": "stdout",
     "output_type": "stream",
     "text": [
      "Epoch [8/20], Loss: 0.4651\n",
      "Validation Loss: 0.5154, Accuracy: 76.22%\n"
     ]
    },
    {
     "name": "stderr",
     "output_type": "stream",
     "text": [
      "Epoch 9/20: 100%|██████████| 18/18 [00:00<00:00, 633.02it/s]\n"
     ]
    },
    {
     "name": "stdout",
     "output_type": "stream",
     "text": [
      "Epoch [9/20], Loss: 0.4604\n",
      "Validation Loss: 0.5090, Accuracy: 76.22%\n"
     ]
    },
    {
     "name": "stderr",
     "output_type": "stream",
     "text": [
      "Epoch 10/20: 100%|██████████| 18/18 [00:00<00:00, 630.12it/s]\n"
     ]
    },
    {
     "name": "stdout",
     "output_type": "stream",
     "text": [
      "Epoch [10/20], Loss: 0.4569\n",
      "Validation Loss: 0.5099, Accuracy: 76.92%\n"
     ]
    },
    {
     "name": "stderr",
     "output_type": "stream",
     "text": [
      "Epoch 11/20: 100%|██████████| 18/18 [00:00<00:00, 579.86it/s]\n"
     ]
    },
    {
     "name": "stdout",
     "output_type": "stream",
     "text": [
      "Epoch [11/20], Loss: 0.4511\n",
      "Validation Loss: 0.5022, Accuracy: 77.62%\n"
     ]
    },
    {
     "name": "stderr",
     "output_type": "stream",
     "text": [
      "Epoch 12/20: 100%|██████████| 18/18 [00:00<00:00, 541.48it/s]\n"
     ]
    },
    {
     "name": "stdout",
     "output_type": "stream",
     "text": [
      "Epoch [12/20], Loss: 0.4475\n",
      "Validation Loss: 0.4993, Accuracy: 77.62%\n"
     ]
    },
    {
     "name": "stderr",
     "output_type": "stream",
     "text": [
      "Epoch 13/20: 100%|██████████| 18/18 [00:00<00:00, 596.27it/s]\n"
     ]
    },
    {
     "name": "stdout",
     "output_type": "stream",
     "text": [
      "Epoch [13/20], Loss: 0.4435\n",
      "Validation Loss: 0.4936, Accuracy: 77.62%\n"
     ]
    },
    {
     "name": "stderr",
     "output_type": "stream",
     "text": [
      "Epoch 14/20: 100%|██████████| 18/18 [00:00<00:00, 504.18it/s]\n"
     ]
    },
    {
     "name": "stdout",
     "output_type": "stream",
     "text": [
      "Epoch [14/20], Loss: 0.4424\n",
      "Validation Loss: 0.4922, Accuracy: 77.62%\n"
     ]
    },
    {
     "name": "stderr",
     "output_type": "stream",
     "text": [
      "Epoch 15/20: 100%|██████████| 18/18 [00:00<00:00, 605.72it/s]\n"
     ]
    },
    {
     "name": "stdout",
     "output_type": "stream",
     "text": [
      "Epoch [15/20], Loss: 0.4394\n",
      "Validation Loss: 0.4861, Accuracy: 79.72%\n"
     ]
    },
    {
     "name": "stderr",
     "output_type": "stream",
     "text": [
      "Epoch 16/20: 100%|██████████| 18/18 [00:00<00:00, 532.91it/s]\n"
     ]
    },
    {
     "name": "stdout",
     "output_type": "stream",
     "text": [
      "Epoch [16/20], Loss: 0.4356\n",
      "Validation Loss: 0.4894, Accuracy: 78.32%\n"
     ]
    },
    {
     "name": "stderr",
     "output_type": "stream",
     "text": [
      "Epoch 17/20: 100%|██████████| 18/18 [00:00<00:00, 168.36it/s]\n"
     ]
    },
    {
     "name": "stdout",
     "output_type": "stream",
     "text": [
      "Epoch [17/20], Loss: 0.4350\n",
      "Validation Loss: 0.4817, Accuracy: 79.02%\n"
     ]
    },
    {
     "name": "stderr",
     "output_type": "stream",
     "text": [
      "Epoch 18/20: 100%|██████████| 18/18 [00:00<00:00, 548.50it/s]\n"
     ]
    },
    {
     "name": "stdout",
     "output_type": "stream",
     "text": [
      "Epoch [18/20], Loss: 0.4341\n",
      "Validation Loss: 0.4833, Accuracy: 78.32%\n"
     ]
    },
    {
     "name": "stderr",
     "output_type": "stream",
     "text": [
      "Epoch 19/20: 100%|██████████| 18/18 [00:00<00:00, 564.11it/s]\n"
     ]
    },
    {
     "name": "stdout",
     "output_type": "stream",
     "text": [
      "Epoch [19/20], Loss: 0.4328\n",
      "Validation Loss: 0.4824, Accuracy: 78.32%\n"
     ]
    },
    {
     "name": "stderr",
     "output_type": "stream",
     "text": [
      "Epoch 20/20: 100%|██████████| 18/18 [00:00<00:00, 349.06it/s]"
     ]
    },
    {
     "name": "stdout",
     "output_type": "stream",
     "text": [
      "Epoch [20/20], Loss: 0.4298\n",
      "Validation Loss: 0.4728, Accuracy: 81.12%\n",
      "Evaluation with LogSoftmax activation:\n",
      "Validation Loss: 0.4728, Accuracy: 81.12%\n"
     ]
    },
    {
     "name": "stderr",
     "output_type": "stream",
     "text": [
      "\n"
     ]
    }
   ],
   "source": [
    "\n",
    "from torch.nn import KLDivLoss\n",
    "\n",
    "# Run with ReLU activation function (Incorrect setup for KLDivLoss)\n",
    "kl_relu_model = SimpleMLP(\n",
    "    input_dim=input_dim,\n",
    "    hidden_dim=hidden_dim,\n",
    "    output_dim=output_dim,\n",
    "    num_hidden_layers=num_hidden_layers,\n",
    "    last_layer_activation_fn=nn.ReLU  # Using ReLU as the last activation function\n",
    ")\n",
    "\n",
    "# Define the loss function and optimizer\n",
    "kl_loss_function = KLDivLoss(reduction=\"batchmean\")\n",
    "kl_relu_optimizer = torch.optim.Adam(kl_relu_model.parameters(), lr=0.001)\n",
    "\n",
    "# Instantiate the trainer\n",
    "kl_relu_trainer = SimpleMLPTrainer(\n",
    "    model=kl_relu_model,\n",
    "    criterion=kl_loss_function,\n",
    "    optimizer=kl_relu_optimizer\n",
    ")\n",
    "\n",
    "# Train the model with ReLU activation\n",
    "try:\n",
    "    kl_relu_training_losses = kl_relu_trainer.train(\n",
    "        train_loader=train_loader,\n",
    "        num_epochs=num_epochs,\n",
    "        val_loader=val_loader\n",
    "    )\n",
    "except Exception as e:\n",
    "    print(f\"An error occurred during training with ReLU activation: {e}\")\n",
    "\n",
    "# Evaluate the model\n",
    "print('Evaluation with ReLU activation:')\n",
    "kl_relu_val_loss, kl_relu_accuracy = kl_relu_trainer.evaluate(val_loader)\n",
    "\n",
    "# Proper solution: Use LogSoftmax as the last activation function\n",
    "# This ensures that the outputs are log-probabilities as required by KLDivLoss\n",
    "kl_logsoftmax_model = SimpleMLP(\n",
    "    input_dim=input_dim,\n",
    "    hidden_dim=hidden_dim,\n",
    "    output_dim=output_dim,\n",
    "    num_hidden_layers=num_hidden_layers,\n",
    "    last_layer_activation_fn=lambda: nn.LogSoftmax(dim=1)  # Using LogSoftmax\n",
    ")\n",
    "\n",
    "# Define the optimizer\n",
    "kl_logsoftmax_optimizer = torch.optim.Adam(kl_logsoftmax_model.parameters(), lr=0.001)\n",
    "\n",
    "# Instantiate the trainer with the corrected model\n",
    "kl_logsoftmax_trainer = SimpleMLPTrainer(\n",
    "    model=kl_logsoftmax_model,\n",
    "    criterion=kl_loss_function,\n",
    "    optimizer=kl_logsoftmax_optimizer\n",
    ")\n",
    "\n",
    "# Train the corrected model\n",
    "kl_logsoftmax_training_losses = kl_logsoftmax_trainer.train(\n",
    "    train_loader=train_loader,\n",
    "    num_epochs=num_epochs,\n",
    "    val_loader=val_loader\n",
    ")\n",
    "\n",
    "# Evaluate the corrected model\n",
    "print('Evaluation with LogSoftmax activation:')\n",
    "kl_logsoftmax_val_loss, kl_logsoftmax_accuracy = kl_logsoftmax_trainer.evaluate(val_loader)\n"
   ]
  },
  {
   "cell_type": "markdown",
   "metadata": {},
   "source": [
    "Your reason for your choice:\n",
    "\n",
    "It seems that there is a significant difference in performance between the two models with ReLU and LogSoftmax activation, with the ReLU-based model achieving only 72.73% accuracy while the LogSoftmax-based model reaches 81.12% accuracy. This discrepancy suggests that the ReLU activation in the output layer of the model is likely causing issues.\n",
    "\n",
    "### Key Insights:\n",
    "\n",
    "1. **Model with ReLU Activation:**\n",
    "   - **Final Results:**\n",
    "     - Loss: -68.0734 (likely an issue, as losses should not be negative)\n",
    "     - Validation Loss: -74.4711\n",
    "     - Accuracy: 72.73%\n",
    "   \n",
    "   - **Problem with ReLU:**\n",
    "     ReLU is generally used in the hidden layers to introduce non-linearity, but it **should not be used in the output layer** when you're working with loss functions like **KLDivLoss** or any other probabilistic loss (like CrossEntropyLoss). This is because **ReLU does not output probabilities**, and the KLDivLoss expects the model output to be in the form of **log-probabilities** (using `log_softmax`).\n",
    "\n",
    "     ReLU can output values from \\(0\\) to \\(+\\infty\\), which are not suitable for KLDivLoss, which expects the model's predictions to represent probabilities (values between 0 and 1, summing to 1). When the output is not normalized and valid, the loss calculation can become unstable or incorrect, potentially resulting in very large or negative loss values, as seen in your results.\n",
    "\n",
    "2. **Model with LogSoftmax Activation:**\n",
    "   - **Final Results:**\n",
    "     - Loss: 0.4298\n",
    "     - Validation Loss: 0.4728\n",
    "     - Accuracy: 81.12%\n",
    "\n",
    "   - **Why LogSoftmax Works:**\n",
    "     The **LogSoftmax** activation is appropriate for KLDivLoss because it ensures that the output is a **normalized probability distribution**, and its logarithms can be directly compared to the target probability distribution. This makes the loss function work as intended and allows the model to learn more effectively.\n",
    "\n",
    "- **Impact of Changing Activation:**\n",
    "  - **ReLU output** (non-normalized values) leads to incorrect KL divergence calculations, causing poor performance and potentially negative loss values.\n",
    "  - **LogSoftmax output** produces normalized log-probabilities, which aligns with KLDivLoss expectations, leading to more stable and correct training.\n",
    "\n",
    "### **Conclusion:**\n",
    "\n",
    "The significant drop in accuracy (from 81% with LogSoftmax to 72% with ReLU) can be attributed to the use of **ReLU in the output layer**. To resolve this issue, replace the ReLU activation in the output layer with **LogSoftmax** to ensure proper loss calculation and improve model performance."
   ]
  },
  {
   "cell_type": "markdown",
   "metadata": {},
   "source": [
    "### 6. CosineEmbeddingLoss (`torch.nn.CosineEmbeddingLoss`)\n",
    "- **Description:** Measures the cosine similarity between two input tensors, `x1` and `x2`, and computes the loss based on a label `y` that indicates whether the tensors should be similar (`y = 1`) or dissimilar (`y = -1`). Cosine similarity focuses on the angle between vectors, disregarding their magnitude.\n",
    "\n",
    "- **Mathematical Function:** \n",
    "\\begin{equation}\n",
    "  \\text{CosineEmbeddingLoss}(x1, x2, y) = \n",
    "  \\begin{cases} \n",
    "  1 - \\cos(x_1, x_2), & \\text{if } y = 1 \\\\\n",
    "  \\max(0, \\cos(x_1, x_2) - \\text{margin}), & \\text{if } y = -1\n",
    "  \\end{cases}\n",
    "\\end{equation}\n",
    "  where $ \\cos(x_1, x_2) $ is the cosine similarity between the two vectors, and `margin` is a threshold that determines how dissimilar the vectors should be.\n",
    "\n",
    "- **Use Case:** Commonly used in tasks like face verification, image similarity, and other scenarios where the relative orientation of vectors (angle) is more important than their length, such as in embeddings and metric learning.\n",
    "\n",
    "- **Background:** Cosine similarity compares the directional alignment of vectors, making it ideal for high-dimensional data where the magnitude may not be as informative. This loss is particularly useful when training models to learn meaningful embeddings that capture semantic similarity.\n",
    "\n",
    "You'll become more fimiliar with this loss function in future.\n",
    "\n",
    "---"
   ]
  },
  {
   "cell_type": "markdown",
   "metadata": {},
   "source": [
    "# Regularization in Machine Learning\n",
    "\n",
    "## Introduction\n",
    "\n",
    "Regularization is a fundamental technique in machine learning that helps prevent overfitting by adding a penalty to the loss function. This penalty discourages the model from becoming too complex, ensuring better generalization to unseen data. In this notebook, you will explore the concepts of regularization, understand different types of regularization techniques, and apply them using Python's popular libraries.\n",
    "\n",
    "## What is Regularization?\n",
    "\n",
    "Regularization involves adding a regularization term to the loss function used to train machine learning models. This term imposes a constraint on the model's coefficients, effectively reducing their magnitude. By doing so, regularization helps in:\n",
    "\n",
    "- **Preventing Overfitting:** Ensures the model does not become too tailored to the training data.\n",
    "- **Improving Generalization:** Enhances the model's performance on new, unseen data.\n",
    "- **Feature Selection:** Especially in L1 regularization, it can drive some coefficients to zero, effectively selecting important features.\n",
    "\n",
    "## Types of Regularization\n",
    "\n",
    "There are several types of regularization techniques, each imposing different constraints on the model's parameters:\n",
    "\n",
    "### 1. L1 Regularization (Lasso)\n",
    "\n",
    "L1 regularization adds the absolute value of the magnitude of coefficients as a penalty term to the loss function. It can lead to sparse models where some feature coefficients are exactly zero.\n",
    "\n",
    "### 2. L2 Regularization (Ridge)\n",
    "\n",
    "L2 regularization adds the squared magnitude of coefficients as a penalty term to the loss function. It tends to shrink the coefficients evenly but does not set them to zero.\n",
    "\n",
    "### 3. Elastic Net\n",
    "\n",
    "Elastic Net combines both L1 and L2 regularization penalties. It balances the benefits of both Lasso and Ridge methods, allowing for feature selection and coefficient shrinkage."
   ]
  },
  {
   "cell_type": "markdown",
   "metadata": {},
   "source": [
    "## Homework Time!\n",
    "Import Iris dataset from sklearn.datasets and apply ridge regression with different alpha values. Then, create a gif that shows the changes of the classification boundary with respect to alpha values."
   ]
  },
  {
   "cell_type": "markdown",
   "metadata": {},
   "source": [
    "Import the libs that you need and start coding!"
   ]
  },
  {
   "cell_type": "code",
   "execution_count": 1,
   "metadata": {},
   "outputs": [],
   "source": [
    "import numpy as np\n",
    "import matplotlib.pyplot as plt\n",
    "from sklearn.datasets import load_iris\n",
    "from sklearn.preprocessing import StandardScaler\n",
    "from sklearn.model_selection import train_test_split\n",
    "from PIL import Image\n",
    "from io import BytesIO\n",
    "import imageio\n",
    "import warnings\n",
    "# Suppress warnings for cleaner output\n",
    "warnings.filterwarnings(\"ignore\")"
   ]
  },
  {
   "cell_type": "markdown",
   "metadata": {},
   "source": [
    "Load the Iris dataset and select Setosa and Versicolor classes"
   ]
  },
  {
   "cell_type": "code",
   "execution_count": 2,
   "metadata": {},
   "outputs": [],
   "source": [
    "# Load Iris dataset and filter for Setosa and Versicolor classes\n",
    "iris = load_iris()\n",
    "X = iris.data\n",
    "y = iris.target\n",
    "binary_class_indices = np.where((y == 0) | (y == 1))\n",
    "X = X[binary_class_indices]\n",
    "y = y[binary_class_indices]\n",
    "\n",
    "# Select Sepal Length and Petal Length features\n",
    "X = X[:, [0, 2]]\n",
    "\n",
    "X_train, X_test, y_train, y_test = train_test_split(X, y, test_size=0.3, random_state=42)\n",
    "\n",
    "# Standardize the features\n",
    "scaler = StandardScaler()\n",
    "X_train = scaler.fit_transform(X_train)\n",
    "X_test = scaler.transform(X_test)\n"
   ]
  },
  {
   "cell_type": "markdown",
   "metadata": {},
   "source": [
    "Define Function to Plot Decision Boundary"
   ]
  },
  {
   "cell_type": "code",
   "execution_count": 8,
   "metadata": {},
   "outputs": [],
   "source": [
    "def plot_decision_boundary(model, X, y, alpha):\n",
    "    # Define the grid (use meshgrid)\n",
    "    x_min, x_max = X[:, 0].min() - 1, X[:, 0].max() + 1\n",
    "    y_min, y_max = X[:, 1].min() - 1, X[:, 1].max() + 1\n",
    "    xx, yy = np.meshgrid(np.arange(x_min, x_max, 0.01),\n",
    "                         np.arange(y_min, y_max, 0.01))\n",
    "\n",
    "    # Predict over the grid\n",
    "    Z = model.predict(np.c_[xx.ravel(), yy.ravel()])\n",
    "    Z = Z.reshape(xx.shape)\n",
    "\n",
    "    # Create a figure\n",
    "    fig, ax = plt.subplots(figsize=(6, 5))\n",
    "\n",
    "    # Plot the decision boundary\n",
    "    ax.contourf(xx, yy, Z, alpha=0.3, levels=[-0.1, 0.1, 1.1], colors=['blue', 'red'])\n",
    "\n",
    "    # Scatter plot of the training data\n",
    "    scatter = ax.scatter(\n",
    "        X[:, 0], X[:, 1], c=y, cmap='bwr', edgecolor='k', s=50\n",
    "    )\n",
    "\n",
    "    # Title and labels\n",
    "    ax.set_title(f'MLP Decision Boundary (alpha={alpha})')\n",
    "    ax.set_xlabel('Sepal Length (standardized)')\n",
    "    ax.set_ylabel('Petal Length (standardized)')\n",
    "\n",
    "    # Remove axes for clarity\n",
    "    ax.set_xticks([])\n",
    "    ax.set_yticks([])\n",
    "\n",
    "    # Tight layout\n",
    "    plt.tight_layout()\n",
    "\n",
    "    # Save the plot to a BytesIO object\n",
    "    buf = BytesIO()\n",
    "    plt.savefig(buf, format='png')\n",
    "    plt.close(fig)\n",
    "    buf.seek(0)\n",
    "    return Image.open(buf)"
   ]
  },
  {
   "cell_type": "markdown",
   "metadata": {},
   "source": [
    "Train MLP with Varying Alpha Values and Collect Images"
   ]
  },
  {
   "cell_type": "code",
   "execution_count": 9,
   "metadata": {},
   "outputs": [],
   "source": [
    "from sklearn.neural_network import MLPClassifier\n",
    "\n",
    "def create_decision_boundary_gif(alpha_values, X_train, y_train, n_neurons):\n",
    "\n",
    "    # List to store images\n",
    "    images = []\n",
    "\n",
    "    for idx, alpha in enumerate(alpha_values):\n",
    "        print(f\"Processing alpha={alpha:.4f} ({idx + 1}/{len(alpha_values)})\")\n",
    "\n",
    "        # Create and train the MLP\n",
    "        mlp = MLPClassifier(hidden_layer_sizes=(n_neurons,), alpha=alpha, max_iter=1000, random_state=42)\n",
    "        mlp.fit(X_train, y_train)\n",
    "\n",
    "        # Plot decision boundary and get the image\n",
    "        img = plot_decision_boundary(mlp, X_train, y_train, alpha)\n",
    "        images.append(img)\n",
    "\n",
    "    # Save the images as a GIF\n",
    "    gif_filename = 'mlp_classification_boundaries.gif'\n",
    "    images[0].save(\n",
    "        gif_filename,\n",
    "        save_all=True,\n",
    "        append_images=images[1:],\n",
    "        duration=500,\n",
    "        loop=0\n",
    "    )\n",
    "\n",
    "    print(f\"GIF saved as '{gif_filename}'\")\n",
    "\n",
    "    # return the gif\n",
    "    return gif_filename"
   ]
  },
  {
   "cell_type": "markdown",
   "metadata": {},
   "source": [
    "## RUN"
   ]
  },
  {
   "cell_type": "code",
   "execution_count": 10,
   "metadata": {},
   "outputs": [
    {
     "name": "stdout",
     "output_type": "stream",
     "text": [
      "Processing alpha=0.0100 (1/20)\n",
      "Processing alpha=0.0162 (2/20)\n",
      "Processing alpha=0.0264 (3/20)\n",
      "Processing alpha=0.0428 (4/20)\n",
      "Processing alpha=0.0695 (5/20)\n",
      "Processing alpha=0.1129 (6/20)\n",
      "Processing alpha=0.1833 (7/20)\n",
      "Processing alpha=0.2976 (8/20)\n",
      "Processing alpha=0.4833 (9/20)\n",
      "Processing alpha=0.7848 (10/20)\n",
      "Processing alpha=1.2743 (11/20)\n",
      "Processing alpha=2.0691 (12/20)\n",
      "Processing alpha=3.3598 (13/20)\n",
      "Processing alpha=5.4556 (14/20)\n",
      "Processing alpha=8.8587 (15/20)\n",
      "Processing alpha=14.3845 (16/20)\n",
      "Processing alpha=23.3572 (17/20)\n",
      "Processing alpha=37.9269 (18/20)\n",
      "Processing alpha=61.5848 (19/20)\n",
      "Processing alpha=100.0000 (20/20)\n",
      "GIF saved as 'mlp_classification_boundaries.gif'\n"
     ]
    }
   ],
   "source": [
    "\n",
    "alpha_values = np.logspace(-2, 2, 20)\n",
    "# Define the number of neurons in the hidden layer\n",
    "n_neurons = 10\n",
    "# Create the decision boundary GIF\n",
    "gif_dir = create_decision_boundary_gif(alpha_values, X_train, y_train, n_neurons)"
   ]
  },
  {
   "cell_type": "markdown",
   "metadata": {},
   "source": [
    "Your gif should look like this:"
   ]
  },
  {
   "cell_type": "markdown",
   "metadata": {},
   "source": [
    "<div style=\"text-align: center;\">\n",
    "\n",
    "### **Multilayer Perceptron Classification Boundaries**\n",
    "\n",
    "![Classification Boundaries](mlp_classification_boundaries_example.gif)\n",
    "\n",
    "*Figure 1: Demonstration of classification boundaries created by a Multilayer Perceptron (MLP) model.*\n",
    "\n",
    "</div>\n",
    "\n"
   ]
  }
 ],
 "metadata": {
  "colab": {
   "provenance": []
  },
  "kernelspec": {
   "display_name": "Python 3",
   "name": "python3"
  },
  "language_info": {
   "codemirror_mode": {
    "name": "ipython",
    "version": 3
   },
   "file_extension": ".py",
   "mimetype": "text/x-python",
   "name": "python",
   "nbconvert_exporter": "python",
   "pygments_lexer": "ipython3",
   "version": "3.12.1"
  }
 },
 "nbformat": 4,
 "nbformat_minor": 0
}
